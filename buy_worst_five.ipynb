{
 "cells": [
  {
   "cell_type": "code",
   "execution_count": 2,
   "metadata": {
    "collapsed": true,
    "ExecuteTime": {
     "start_time": "2023-05-08T18:36:56.574691Z",
     "end_time": "2023-05-08T18:36:57.155105Z"
    }
   },
   "outputs": [],
   "source": [
    "import pandas as pd"
   ]
  },
  {
   "cell_type": "code",
   "execution_count": 3,
   "outputs": [],
   "source": [
    "import numpy as np"
   ],
   "metadata": {
    "collapsed": false,
    "ExecuteTime": {
     "start_time": "2023-05-08T18:36:57.133776Z",
     "end_time": "2023-05-08T18:36:57.159582Z"
    }
   }
  },
  {
   "cell_type": "code",
   "execution_count": 4,
   "outputs": [],
   "source": [
    "df = pd.read_excel(\"sp500.xlsx\")"
   ],
   "metadata": {
    "collapsed": false,
    "ExecuteTime": {
     "start_time": "2023-05-08T18:36:57.145446Z",
     "end_time": "2023-05-08T18:36:58.716188Z"
    }
   }
  },
  {
   "cell_type": "code",
   "execution_count": 5,
   "outputs": [],
   "source": [
    "df.set_index(\"Date\", inplace=True)"
   ],
   "metadata": {
    "collapsed": false,
    "ExecuteTime": {
     "start_time": "2023-05-08T18:36:58.717740Z",
     "end_time": "2023-05-08T18:36:58.732939Z"
    }
   }
  },
  {
   "cell_type": "code",
   "execution_count": 6,
   "outputs": [],
   "source": [
    "df.sort_index(inplace=True)"
   ],
   "metadata": {
    "collapsed": false,
    "ExecuteTime": {
     "start_time": "2023-05-08T18:36:58.733911Z",
     "end_time": "2023-05-08T18:36:58.760038Z"
    }
   }
  },
  {
   "cell_type": "code",
   "execution_count": 7,
   "outputs": [],
   "source": [
    "df.fillna(method=\"ffill\", inplace=True)"
   ],
   "metadata": {
    "collapsed": false,
    "ExecuteTime": {
     "start_time": "2023-05-08T18:36:58.748668Z",
     "end_time": "2023-05-08T18:36:58.769012Z"
    }
   }
  },
  {
   "cell_type": "code",
   "execution_count": 8,
   "outputs": [],
   "source": [
    "dailyret = df.pct_change()"
   ],
   "metadata": {
    "collapsed": false,
    "ExecuteTime": {
     "start_time": "2023-05-08T18:36:58.764008Z",
     "end_time": "2023-05-08T18:36:58.778017Z"
    }
   }
  },
  {
   "cell_type": "code",
   "execution_count": 22,
   "outputs": [
    {
     "data": {
      "text/plain": "                 MMM       AOS       ABT      ABBV       ACN      ATVI  \\\nDate                                                                     \n2023-05-01 -0.003483  0.027090  0.005793  0.017139 -0.003104 -0.003603   \n2023-05-02 -0.027114 -0.005133  0.003510 -0.013597 -0.009591 -0.018468   \n2023-05-03 -0.001457 -0.004586  0.002332 -0.015631 -0.005637 -0.010132   \n2023-05-04 -0.009628 -0.003887 -0.008053 -0.012663 -0.031543 -0.008507   \n2023-05-05  0.014827  0.017199  0.003608  0.004547 -0.003190  0.018903   \n\n                 ADM      ADBE       AAP       AMD  ...       WHR       WMB  \\\nDate                                                ...                       \n2023-05-01 -0.003586 -0.009032 -0.000478  0.003581  ...  0.001433  0.003305   \n2023-05-02 -0.029306 -0.014673 -0.010760  0.002453  ... -0.005651 -0.034914   \n2023-05-03 -0.006621 -0.063500 -0.002578 -0.092203  ...  0.015468 -0.011604   \n2023-05-04 -0.010664 -0.027285 -0.028756  0.061137  ... -0.038257  0.004834   \n2023-05-05  0.023444  0.037430  0.029358  0.037294  ...  0.009355  0.037113   \n\n                WYNN       XEL       XYL       YUM      ZBRA       ZBH  \\\nDate                                                                     \n2023-05-01  0.011551  0.003719  0.006356  0.011737 -0.002014  0.002817   \n2023-05-02 -0.020761 -0.015249  0.000191  0.004711 -0.111359  0.030109   \n2023-05-03 -0.034187 -0.008683 -0.003540 -0.039118  0.011979 -0.023705   \n2023-05-04 -0.000732  0.008905  0.020931 -0.007210  0.025145 -0.021415   \n2023-05-05  0.014005  0.006656  0.024828  0.008583  0.033208  0.009368   \n\n                ZION       ZTS  \nDate                            \n2023-05-01 -0.037330  0.021504  \n2023-05-02 -0.108128 -0.014814  \n2023-05-03 -0.052676  0.004692  \n2023-05-04 -0.120477  0.004164  \n2023-05-05  0.192173  0.043481  \n\n[5 rows x 483 columns]",
      "text/html": "<div>\n<style scoped>\n    .dataframe tbody tr th:only-of-type {\n        vertical-align: middle;\n    }\n\n    .dataframe tbody tr th {\n        vertical-align: top;\n    }\n\n    .dataframe thead th {\n        text-align: right;\n    }\n</style>\n<table border=\"1\" class=\"dataframe\">\n  <thead>\n    <tr style=\"text-align: right;\">\n      <th></th>\n      <th>MMM</th>\n      <th>AOS</th>\n      <th>ABT</th>\n      <th>ABBV</th>\n      <th>ACN</th>\n      <th>ATVI</th>\n      <th>ADM</th>\n      <th>ADBE</th>\n      <th>AAP</th>\n      <th>AMD</th>\n      <th>...</th>\n      <th>WHR</th>\n      <th>WMB</th>\n      <th>WYNN</th>\n      <th>XEL</th>\n      <th>XYL</th>\n      <th>YUM</th>\n      <th>ZBRA</th>\n      <th>ZBH</th>\n      <th>ZION</th>\n      <th>ZTS</th>\n    </tr>\n    <tr>\n      <th>Date</th>\n      <th></th>\n      <th></th>\n      <th></th>\n      <th></th>\n      <th></th>\n      <th></th>\n      <th></th>\n      <th></th>\n      <th></th>\n      <th></th>\n      <th></th>\n      <th></th>\n      <th></th>\n      <th></th>\n      <th></th>\n      <th></th>\n      <th></th>\n      <th></th>\n      <th></th>\n      <th></th>\n      <th></th>\n    </tr>\n  </thead>\n  <tbody>\n    <tr>\n      <th>2023-05-01</th>\n      <td>-0.003483</td>\n      <td>0.027090</td>\n      <td>0.005793</td>\n      <td>0.017139</td>\n      <td>-0.003104</td>\n      <td>-0.003603</td>\n      <td>-0.003586</td>\n      <td>-0.009032</td>\n      <td>-0.000478</td>\n      <td>0.003581</td>\n      <td>...</td>\n      <td>0.001433</td>\n      <td>0.003305</td>\n      <td>0.011551</td>\n      <td>0.003719</td>\n      <td>0.006356</td>\n      <td>0.011737</td>\n      <td>-0.002014</td>\n      <td>0.002817</td>\n      <td>-0.037330</td>\n      <td>0.021504</td>\n    </tr>\n    <tr>\n      <th>2023-05-02</th>\n      <td>-0.027114</td>\n      <td>-0.005133</td>\n      <td>0.003510</td>\n      <td>-0.013597</td>\n      <td>-0.009591</td>\n      <td>-0.018468</td>\n      <td>-0.029306</td>\n      <td>-0.014673</td>\n      <td>-0.010760</td>\n      <td>0.002453</td>\n      <td>...</td>\n      <td>-0.005651</td>\n      <td>-0.034914</td>\n      <td>-0.020761</td>\n      <td>-0.015249</td>\n      <td>0.000191</td>\n      <td>0.004711</td>\n      <td>-0.111359</td>\n      <td>0.030109</td>\n      <td>-0.108128</td>\n      <td>-0.014814</td>\n    </tr>\n    <tr>\n      <th>2023-05-03</th>\n      <td>-0.001457</td>\n      <td>-0.004586</td>\n      <td>0.002332</td>\n      <td>-0.015631</td>\n      <td>-0.005637</td>\n      <td>-0.010132</td>\n      <td>-0.006621</td>\n      <td>-0.063500</td>\n      <td>-0.002578</td>\n      <td>-0.092203</td>\n      <td>...</td>\n      <td>0.015468</td>\n      <td>-0.011604</td>\n      <td>-0.034187</td>\n      <td>-0.008683</td>\n      <td>-0.003540</td>\n      <td>-0.039118</td>\n      <td>0.011979</td>\n      <td>-0.023705</td>\n      <td>-0.052676</td>\n      <td>0.004692</td>\n    </tr>\n    <tr>\n      <th>2023-05-04</th>\n      <td>-0.009628</td>\n      <td>-0.003887</td>\n      <td>-0.008053</td>\n      <td>-0.012663</td>\n      <td>-0.031543</td>\n      <td>-0.008507</td>\n      <td>-0.010664</td>\n      <td>-0.027285</td>\n      <td>-0.028756</td>\n      <td>0.061137</td>\n      <td>...</td>\n      <td>-0.038257</td>\n      <td>0.004834</td>\n      <td>-0.000732</td>\n      <td>0.008905</td>\n      <td>0.020931</td>\n      <td>-0.007210</td>\n      <td>0.025145</td>\n      <td>-0.021415</td>\n      <td>-0.120477</td>\n      <td>0.004164</td>\n    </tr>\n    <tr>\n      <th>2023-05-05</th>\n      <td>0.014827</td>\n      <td>0.017199</td>\n      <td>0.003608</td>\n      <td>0.004547</td>\n      <td>-0.003190</td>\n      <td>0.018903</td>\n      <td>0.023444</td>\n      <td>0.037430</td>\n      <td>0.029358</td>\n      <td>0.037294</td>\n      <td>...</td>\n      <td>0.009355</td>\n      <td>0.037113</td>\n      <td>0.014005</td>\n      <td>0.006656</td>\n      <td>0.024828</td>\n      <td>0.008583</td>\n      <td>0.033208</td>\n      <td>0.009368</td>\n      <td>0.192173</td>\n      <td>0.043481</td>\n    </tr>\n  </tbody>\n</table>\n<p>5 rows × 483 columns</p>\n</div>"
     },
     "execution_count": 22,
     "metadata": {},
     "output_type": "execute_result"
    }
   ],
   "source": [
    "dailyret.iloc[-5:, :]"
   ],
   "metadata": {
    "collapsed": false,
    "ExecuteTime": {
     "start_time": "2023-05-08T18:51:42.497696Z",
     "end_time": "2023-05-08T18:51:42.518200Z"
    }
   }
  },
  {
   "cell_type": "code",
   "execution_count": 10,
   "outputs": [],
   "source": [
    "positionsTable = np.zeros(df.shape)"
   ],
   "metadata": {
    "collapsed": false,
    "ExecuteTime": {
     "start_time": "2023-05-08T18:36:58.810851Z",
     "end_time": "2023-05-08T18:36:58.825860Z"
    }
   }
  },
  {
   "cell_type": "code",
   "execution_count": 11,
   "outputs": [],
   "source": [
    "end_index = df.shape[0]"
   ],
   "metadata": {
    "collapsed": false,
    "ExecuteTime": {
     "start_time": "2023-05-08T18:39:54.141547Z",
     "end_time": "2023-05-08T18:39:54.158150Z"
    }
   }
  },
  {
   "cell_type": "code",
   "execution_count": 39,
   "outputs": [],
   "source": [
    "for t in np.arange(1, 3):\n",
    "    row: pd.Series = dailyret.iloc[t, ]\n",
    "    worst5 = row.nsmallest(5)"
   ],
   "metadata": {
    "collapsed": false,
    "ExecuteTime": {
     "start_time": "2023-05-09T20:52:09.523083Z",
     "end_time": "2023-05-09T20:52:09.546665Z"
    }
   }
  },
  {
   "cell_type": "code",
   "execution_count": null,
   "outputs": [],
   "source": [
    "# todo we'll continue this conversation when I'm smarter"
   ],
   "metadata": {
    "collapsed": false
   }
  }
 ],
 "metadata": {
  "kernelspec": {
   "display_name": "Python 3",
   "language": "python",
   "name": "python3"
  },
  "language_info": {
   "codemirror_mode": {
    "name": "ipython",
    "version": 2
   },
   "file_extension": ".py",
   "mimetype": "text/x-python",
   "name": "python",
   "nbconvert_exporter": "python",
   "pygments_lexer": "ipython2",
   "version": "2.7.6"
  }
 },
 "nbformat": 4,
 "nbformat_minor": 0
}
