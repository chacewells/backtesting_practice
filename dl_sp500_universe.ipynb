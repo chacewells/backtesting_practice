{
 "cells": [
  {
   "cell_type": "code",
   "execution_count": 1,
   "outputs": [],
   "source": [
    "from urllib.error import HTTPError\n",
    "\n",
    "import pandas as pd"
   ],
   "metadata": {
    "collapsed": false,
    "ExecuteTime": {
     "start_time": "2023-05-07T13:12:37.995735Z",
     "end_time": "2023-05-07T13:12:38.364535Z"
    }
   }
  },
  {
   "cell_type": "code",
   "execution_count": 2,
   "metadata": {
    "collapsed": true,
    "ExecuteTime": {
     "start_time": "2023-05-07T13:12:38.366534Z",
     "end_time": "2023-05-07T13:12:38.380078Z"
    }
   },
   "outputs": [],
   "source": [
    "url_fmt = \"https://query1.finance.yahoo.com/v7/finance/download/{}?period1=1651881600&period2=1683417600&interval=1d&events=history&includeAdjustedClose=true\""
   ]
  },
  {
   "cell_type": "code",
   "execution_count": 3,
   "outputs": [],
   "source": [
    "sp500_symbols = pd.read_csv(\"https://datahub.io/core/s-and-p-500-companies/r/constituents.csv\")\n"
   ],
   "metadata": {
    "collapsed": false,
    "ExecuteTime": {
     "start_time": "2023-05-07T13:12:38.381082Z",
     "end_time": "2023-05-07T13:12:39.961731Z"
    }
   }
  },
  {
   "cell_type": "code",
   "execution_count": 4,
   "outputs": [
    {
     "data": {
      "text/plain": "    Symbol                 Name                  Sector\n0      MMM                   3M             Industrials\n1      AOS          A. O. Smith             Industrials\n2      ABT  Abbott Laboratories             Health Care\n3     ABBV               AbbVie             Health Care\n4     ABMD              Abiomed             Health Care\n..     ...                  ...                     ...\n500    YUM          Yum! Brands  Consumer Discretionary\n501   ZBRA   Zebra Technologies  Information Technology\n502    ZBH        Zimmer Biomet             Health Care\n503   ZION        Zions Bancorp              Financials\n504    ZTS               Zoetis             Health Care\n\n[505 rows x 3 columns]",
      "text/html": "<div>\n<style scoped>\n    .dataframe tbody tr th:only-of-type {\n        vertical-align: middle;\n    }\n\n    .dataframe tbody tr th {\n        vertical-align: top;\n    }\n\n    .dataframe thead th {\n        text-align: right;\n    }\n</style>\n<table border=\"1\" class=\"dataframe\">\n  <thead>\n    <tr style=\"text-align: right;\">\n      <th></th>\n      <th>Symbol</th>\n      <th>Name</th>\n      <th>Sector</th>\n    </tr>\n  </thead>\n  <tbody>\n    <tr>\n      <th>0</th>\n      <td>MMM</td>\n      <td>3M</td>\n      <td>Industrials</td>\n    </tr>\n    <tr>\n      <th>1</th>\n      <td>AOS</td>\n      <td>A. O. Smith</td>\n      <td>Industrials</td>\n    </tr>\n    <tr>\n      <th>2</th>\n      <td>ABT</td>\n      <td>Abbott Laboratories</td>\n      <td>Health Care</td>\n    </tr>\n    <tr>\n      <th>3</th>\n      <td>ABBV</td>\n      <td>AbbVie</td>\n      <td>Health Care</td>\n    </tr>\n    <tr>\n      <th>4</th>\n      <td>ABMD</td>\n      <td>Abiomed</td>\n      <td>Health Care</td>\n    </tr>\n    <tr>\n      <th>...</th>\n      <td>...</td>\n      <td>...</td>\n      <td>...</td>\n    </tr>\n    <tr>\n      <th>500</th>\n      <td>YUM</td>\n      <td>Yum! Brands</td>\n      <td>Consumer Discretionary</td>\n    </tr>\n    <tr>\n      <th>501</th>\n      <td>ZBRA</td>\n      <td>Zebra Technologies</td>\n      <td>Information Technology</td>\n    </tr>\n    <tr>\n      <th>502</th>\n      <td>ZBH</td>\n      <td>Zimmer Biomet</td>\n      <td>Health Care</td>\n    </tr>\n    <tr>\n      <th>503</th>\n      <td>ZION</td>\n      <td>Zions Bancorp</td>\n      <td>Financials</td>\n    </tr>\n    <tr>\n      <th>504</th>\n      <td>ZTS</td>\n      <td>Zoetis</td>\n      <td>Health Care</td>\n    </tr>\n  </tbody>\n</table>\n<p>505 rows × 3 columns</p>\n</div>"
     },
     "execution_count": 4,
     "metadata": {},
     "output_type": "execute_result"
    }
   ],
   "source": [
    "sp500_symbols"
   ],
   "metadata": {
    "collapsed": false,
    "ExecuteTime": {
     "start_time": "2023-05-07T13:12:39.966730Z",
     "end_time": "2023-05-07T13:12:39.999379Z"
    }
   }
  },
  {
   "cell_type": "code",
   "execution_count": 5,
   "outputs": [],
   "source": [
    "df=None"
   ],
   "metadata": {
    "collapsed": false,
    "ExecuteTime": {
     "start_time": "2023-05-07T13:12:39.993378Z",
     "end_time": "2023-05-07T13:12:40.053938Z"
    }
   }
  },
  {
   "cell_type": "code",
   "execution_count": 6,
   "outputs": [
    {
     "name": "stdout",
     "output_type": "stream",
     "text": [
      "ANTM: download failed\n",
      "BLL: download failed\n",
      "BRK.B: download failed\n",
      "BF.B: download failed\n",
      "CERN: download failed\n",
      "CTXS: download failed\n",
      "DISCA: download failed\n",
      "DISCK: download failed\n",
      "DRE: download failed\n",
      "FB: download failed\n",
      "FBHS: download failed\n",
      "INFO: download failed\n",
      "KSU: download failed\n",
      "NLSN: download failed\n",
      "NLOK: download failed\n",
      "PBCT: download failed\n",
      "TWTR: download failed\n",
      "VIAC: download failed\n",
      "WLTW: download failed\n",
      "XLNX: download failed\n"
     ]
    }
   ],
   "source": [
    "for symbol in sp500_symbols[\"Symbol\"]:\n",
    "    try:\n",
    "        price_data = pd.read_csv(url_fmt.format(symbol))\n",
    "    except HTTPError:\n",
    "        print(\"{}: download failed\".format(symbol))\n",
    "        continue\n",
    "    price_data: pd.DataFrame = price_data.loc[:, ['Date', 'Adj Close']]\n",
    "    price_data.rename(columns={'Adj Close': symbol}, inplace=True)\n",
    "    if df is None:\n",
    "        df = price_data\n",
    "    else:\n",
    "        df = pd.merge(df, price_data, on='Date')"
   ],
   "metadata": {
    "collapsed": false,
    "ExecuteTime": {
     "start_time": "2023-05-07T13:12:40.009527Z",
     "end_time": "2023-05-07T13:13:49.014923Z"
    }
   }
  },
  {
   "cell_type": "code",
   "execution_count": 7,
   "outputs": [
    {
     "data": {
      "text/plain": "         Date         MMM        AOS         ABT        ABBV  ABMD  \\\n0  2023-04-24  105.059998  68.613686  110.400002  164.080002   NaN   \n1  2023-04-25  104.370003  68.265244  109.970001  164.899994   NaN   \n2  2023-04-26  102.919998  67.200005  108.750000  161.800003   NaN   \n3  2023-04-27  105.330002  68.559998  109.500000  148.869995   NaN   \n4  2023-04-28  106.220001  68.290001  110.470001  151.119995   NaN   \n5  2023-05-01  105.849998  70.139999  111.110001  153.710007   NaN   \n6  2023-05-02  102.980003  69.779999  111.500000  151.619995   NaN   \n7  2023-05-03  102.830002  69.459999  111.760002  149.250000   NaN   \n8  2023-05-04  101.839996  69.190002  110.860001  147.360001   NaN   \n\n          ACN       ATVI        ADM        ADBE  ...         WHR        WMB  \\\n0  277.250000  86.089996  80.800003  377.339996  ...  140.699997  30.330000   \n1  270.700012  86.739998  75.900002  369.589996  ...  132.550003  29.930000   \n2  271.209991  76.809998  77.029999  363.059998  ...  129.020004  29.440001   \n3  275.450012  77.610001  78.010002  371.420013  ...  135.389999  29.809999   \n4  280.290009  77.709999  78.080002  377.559998  ...  139.589996  30.260000   \n5  279.420013  77.430000  77.800003  374.149994  ...  139.789993  30.360001   \n6  276.739990  76.000000  75.519997  368.660004  ...  139.000000  29.299999   \n7  275.179993  75.230003  75.019997  345.250000  ...  141.149994  28.959999   \n8  266.500000  74.589996  74.220001  335.829987  ...  135.750000  29.100000   \n\n         WYNN        XEL         XYL         YUM        ZBRA         ZBH  \\\n0  114.480003  71.029999  104.540001  138.899994  288.190002  138.139999   \n1  111.629997  71.180000  102.919998  137.809998  284.100006  139.059998   \n2  109.449997  69.680000  100.980003  138.009995  280.420013  139.080002   \n3  110.220001  70.260002  103.830002  139.800003  284.119995  138.350006   \n4  114.279999  69.910004  103.839996  140.580002  288.029999  138.440002   \n5  115.599998  70.169998  104.500000  142.229996  287.450012  138.830002   \n6  113.199997  69.099998  104.519997  142.899994  255.440002  143.009995   \n7  109.330002  68.500000  104.150002  137.309998  258.500000  139.619995   \n8  109.250000  69.110001  106.330002  136.320007  265.000000  136.630005   \n\n        ZION         ZTS  \n0  28.270000  176.350006  \n1  26.730000  173.020004  \n2  26.389999  172.940002  \n3  26.580000  173.949997  \n4  27.860001  175.779999  \n5  26.820000  179.559998  \n6  23.920000  176.899994  \n7  22.660000  177.729996  \n8  19.930000  178.470001  \n\n[9 rows x 486 columns]",
      "text/html": "<div>\n<style scoped>\n    .dataframe tbody tr th:only-of-type {\n        vertical-align: middle;\n    }\n\n    .dataframe tbody tr th {\n        vertical-align: top;\n    }\n\n    .dataframe thead th {\n        text-align: right;\n    }\n</style>\n<table border=\"1\" class=\"dataframe\">\n  <thead>\n    <tr style=\"text-align: right;\">\n      <th></th>\n      <th>Date</th>\n      <th>MMM</th>\n      <th>AOS</th>\n      <th>ABT</th>\n      <th>ABBV</th>\n      <th>ABMD</th>\n      <th>ACN</th>\n      <th>ATVI</th>\n      <th>ADM</th>\n      <th>ADBE</th>\n      <th>...</th>\n      <th>WHR</th>\n      <th>WMB</th>\n      <th>WYNN</th>\n      <th>XEL</th>\n      <th>XYL</th>\n      <th>YUM</th>\n      <th>ZBRA</th>\n      <th>ZBH</th>\n      <th>ZION</th>\n      <th>ZTS</th>\n    </tr>\n  </thead>\n  <tbody>\n    <tr>\n      <th>0</th>\n      <td>2023-04-24</td>\n      <td>105.059998</td>\n      <td>68.613686</td>\n      <td>110.400002</td>\n      <td>164.080002</td>\n      <td>NaN</td>\n      <td>277.250000</td>\n      <td>86.089996</td>\n      <td>80.800003</td>\n      <td>377.339996</td>\n      <td>...</td>\n      <td>140.699997</td>\n      <td>30.330000</td>\n      <td>114.480003</td>\n      <td>71.029999</td>\n      <td>104.540001</td>\n      <td>138.899994</td>\n      <td>288.190002</td>\n      <td>138.139999</td>\n      <td>28.270000</td>\n      <td>176.350006</td>\n    </tr>\n    <tr>\n      <th>1</th>\n      <td>2023-04-25</td>\n      <td>104.370003</td>\n      <td>68.265244</td>\n      <td>109.970001</td>\n      <td>164.899994</td>\n      <td>NaN</td>\n      <td>270.700012</td>\n      <td>86.739998</td>\n      <td>75.900002</td>\n      <td>369.589996</td>\n      <td>...</td>\n      <td>132.550003</td>\n      <td>29.930000</td>\n      <td>111.629997</td>\n      <td>71.180000</td>\n      <td>102.919998</td>\n      <td>137.809998</td>\n      <td>284.100006</td>\n      <td>139.059998</td>\n      <td>26.730000</td>\n      <td>173.020004</td>\n    </tr>\n    <tr>\n      <th>2</th>\n      <td>2023-04-26</td>\n      <td>102.919998</td>\n      <td>67.200005</td>\n      <td>108.750000</td>\n      <td>161.800003</td>\n      <td>NaN</td>\n      <td>271.209991</td>\n      <td>76.809998</td>\n      <td>77.029999</td>\n      <td>363.059998</td>\n      <td>...</td>\n      <td>129.020004</td>\n      <td>29.440001</td>\n      <td>109.449997</td>\n      <td>69.680000</td>\n      <td>100.980003</td>\n      <td>138.009995</td>\n      <td>280.420013</td>\n      <td>139.080002</td>\n      <td>26.389999</td>\n      <td>172.940002</td>\n    </tr>\n    <tr>\n      <th>3</th>\n      <td>2023-04-27</td>\n      <td>105.330002</td>\n      <td>68.559998</td>\n      <td>109.500000</td>\n      <td>148.869995</td>\n      <td>NaN</td>\n      <td>275.450012</td>\n      <td>77.610001</td>\n      <td>78.010002</td>\n      <td>371.420013</td>\n      <td>...</td>\n      <td>135.389999</td>\n      <td>29.809999</td>\n      <td>110.220001</td>\n      <td>70.260002</td>\n      <td>103.830002</td>\n      <td>139.800003</td>\n      <td>284.119995</td>\n      <td>138.350006</td>\n      <td>26.580000</td>\n      <td>173.949997</td>\n    </tr>\n    <tr>\n      <th>4</th>\n      <td>2023-04-28</td>\n      <td>106.220001</td>\n      <td>68.290001</td>\n      <td>110.470001</td>\n      <td>151.119995</td>\n      <td>NaN</td>\n      <td>280.290009</td>\n      <td>77.709999</td>\n      <td>78.080002</td>\n      <td>377.559998</td>\n      <td>...</td>\n      <td>139.589996</td>\n      <td>30.260000</td>\n      <td>114.279999</td>\n      <td>69.910004</td>\n      <td>103.839996</td>\n      <td>140.580002</td>\n      <td>288.029999</td>\n      <td>138.440002</td>\n      <td>27.860001</td>\n      <td>175.779999</td>\n    </tr>\n    <tr>\n      <th>5</th>\n      <td>2023-05-01</td>\n      <td>105.849998</td>\n      <td>70.139999</td>\n      <td>111.110001</td>\n      <td>153.710007</td>\n      <td>NaN</td>\n      <td>279.420013</td>\n      <td>77.430000</td>\n      <td>77.800003</td>\n      <td>374.149994</td>\n      <td>...</td>\n      <td>139.789993</td>\n      <td>30.360001</td>\n      <td>115.599998</td>\n      <td>70.169998</td>\n      <td>104.500000</td>\n      <td>142.229996</td>\n      <td>287.450012</td>\n      <td>138.830002</td>\n      <td>26.820000</td>\n      <td>179.559998</td>\n    </tr>\n    <tr>\n      <th>6</th>\n      <td>2023-05-02</td>\n      <td>102.980003</td>\n      <td>69.779999</td>\n      <td>111.500000</td>\n      <td>151.619995</td>\n      <td>NaN</td>\n      <td>276.739990</td>\n      <td>76.000000</td>\n      <td>75.519997</td>\n      <td>368.660004</td>\n      <td>...</td>\n      <td>139.000000</td>\n      <td>29.299999</td>\n      <td>113.199997</td>\n      <td>69.099998</td>\n      <td>104.519997</td>\n      <td>142.899994</td>\n      <td>255.440002</td>\n      <td>143.009995</td>\n      <td>23.920000</td>\n      <td>176.899994</td>\n    </tr>\n    <tr>\n      <th>7</th>\n      <td>2023-05-03</td>\n      <td>102.830002</td>\n      <td>69.459999</td>\n      <td>111.760002</td>\n      <td>149.250000</td>\n      <td>NaN</td>\n      <td>275.179993</td>\n      <td>75.230003</td>\n      <td>75.019997</td>\n      <td>345.250000</td>\n      <td>...</td>\n      <td>141.149994</td>\n      <td>28.959999</td>\n      <td>109.330002</td>\n      <td>68.500000</td>\n      <td>104.150002</td>\n      <td>137.309998</td>\n      <td>258.500000</td>\n      <td>139.619995</td>\n      <td>22.660000</td>\n      <td>177.729996</td>\n    </tr>\n    <tr>\n      <th>8</th>\n      <td>2023-05-04</td>\n      <td>101.839996</td>\n      <td>69.190002</td>\n      <td>110.860001</td>\n      <td>147.360001</td>\n      <td>NaN</td>\n      <td>266.500000</td>\n      <td>74.589996</td>\n      <td>74.220001</td>\n      <td>335.829987</td>\n      <td>...</td>\n      <td>135.750000</td>\n      <td>29.100000</td>\n      <td>109.250000</td>\n      <td>69.110001</td>\n      <td>106.330002</td>\n      <td>136.320007</td>\n      <td>265.000000</td>\n      <td>136.630005</td>\n      <td>19.930000</td>\n      <td>178.470001</td>\n    </tr>\n  </tbody>\n</table>\n<p>9 rows × 486 columns</p>\n</div>"
     },
     "execution_count": 7,
     "metadata": {},
     "output_type": "execute_result"
    }
   ],
   "source": [
    "df"
   ],
   "metadata": {
    "collapsed": false,
    "ExecuteTime": {
     "start_time": "2023-05-07T13:13:49.033586Z",
     "end_time": "2023-05-07T13:13:49.052928Z"
    }
   }
  },
  {
   "cell_type": "code",
   "execution_count": 8,
   "outputs": [],
   "source": [
    "df.to_excel(\"sp500.xlsx\")"
   ],
   "metadata": {
    "collapsed": false,
    "ExecuteTime": {
     "start_time": "2023-05-07T13:13:49.097648Z",
     "end_time": "2023-05-07T13:13:49.438438Z"
    }
   }
  },
  {
   "cell_type": "code",
   "execution_count": null,
   "outputs": [],
   "source": [],
   "metadata": {
    "collapsed": false
   }
  }
 ],
 "metadata": {
  "kernelspec": {
   "display_name": "Python 3",
   "language": "python",
   "name": "python3"
  },
  "language_info": {
   "codemirror_mode": {
    "name": "ipython",
    "version": 2
   },
   "file_extension": ".py",
   "mimetype": "text/x-python",
   "name": "python",
   "nbconvert_exporter": "python",
   "pygments_lexer": "ipython2",
   "version": "2.7.6"
  }
 },
 "nbformat": 4,
 "nbformat_minor": 0
}
