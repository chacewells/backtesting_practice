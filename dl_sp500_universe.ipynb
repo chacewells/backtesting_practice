{
 "cells": [
  {
   "cell_type": "code",
   "execution_count": 1,
   "outputs": [],
   "source": [
    "from urllib.error import HTTPError\n",
    "\n",
    "import pandas as pd"
   ],
   "metadata": {
    "collapsed": false,
    "ExecuteTime": {
     "start_time": "2023-05-07T12:59:22.998749Z",
     "end_time": "2023-05-07T12:59:23.373558Z"
    }
   }
  },
  {
   "cell_type": "code",
   "execution_count": 2,
   "metadata": {
    "collapsed": true,
    "ExecuteTime": {
     "start_time": "2023-05-07T12:59:23.375589Z",
     "end_time": "2023-05-07T12:59:23.394300Z"
    }
   },
   "outputs": [],
   "source": [
    "url_fmt = \"https://query1.finance.yahoo.com/v7/finance/download/{}?period1=1651881600&period2=1683417600&interval=1d&events=history&includeAdjustedClose=true\""
   ]
  },
  {
   "cell_type": "code",
   "execution_count": 3,
   "outputs": [],
   "source": [
    "sp500_symbols = pd.read_table(\"sp500.txt\", header=None)\n"
   ],
   "metadata": {
    "collapsed": false,
    "ExecuteTime": {
     "start_time": "2023-05-07T12:59:23.404844Z",
     "end_time": "2023-05-07T12:59:23.421312Z"
    }
   }
  },
  {
   "cell_type": "code",
   "execution_count": 4,
   "outputs": [],
   "source": [
    "df = pd.DataFrame()\n"
   ],
   "metadata": {
    "collapsed": false,
    "ExecuteTime": {
     "start_time": "2023-05-07T12:59:23.421312Z",
     "end_time": "2023-05-07T12:59:23.436420Z"
    }
   }
  },
  {
   "cell_type": "code",
   "execution_count": 5,
   "outputs": [],
   "source": [
    "mmm = pd.read_csv(url_fmt.format(\"MMM\"))"
   ],
   "metadata": {
    "collapsed": false,
    "ExecuteTime": {
     "start_time": "2023-05-07T12:59:23.438423Z",
     "end_time": "2023-05-07T12:59:23.668166Z"
    }
   }
  },
  {
   "cell_type": "code",
   "execution_count": 6,
   "outputs": [
    {
     "data": {
      "text/plain": "           Date        Open        High         Low       Close   Adj Close  \\\n0    2022-05-09  148.440002  153.770004  147.940002  152.380005  145.666168   \n1    2022-05-10  154.000000  154.039993  148.139999  149.119995  142.549789   \n2    2022-05-11  149.990005  150.130005  146.169998  146.410004  139.959213   \n3    2022-05-12  146.589996  149.619995  146.009995  149.589996  142.999100   \n4    2022-05-13  150.210007  150.350006  147.970001  149.300003  142.721863   \n..          ...         ...         ...         ...         ...         ...   \n245  2023-05-01  106.339996  106.830002  105.559998  105.849998  105.849998   \n246  2023-05-02  105.510002  105.699997  102.660004  102.980003  102.980003   \n247  2023-05-03  103.500000  104.599998  102.669998  102.830002  102.830002   \n248  2023-05-04  102.550003  102.980003  100.760002  101.839996  101.839996   \n249  2023-05-05  102.800003  103.480003  102.050003  103.349998  103.349998   \n\n      Volume  \n0    4163100  \n1    3503200  \n2    2748000  \n3    2819000  \n4    2753300  \n..       ...  \n245  2289300  \n246  3012000  \n247  2056100  \n248  2963200  \n249  1943100  \n\n[250 rows x 7 columns]",
      "text/html": "<div>\n<style scoped>\n    .dataframe tbody tr th:only-of-type {\n        vertical-align: middle;\n    }\n\n    .dataframe tbody tr th {\n        vertical-align: top;\n    }\n\n    .dataframe thead th {\n        text-align: right;\n    }\n</style>\n<table border=\"1\" class=\"dataframe\">\n  <thead>\n    <tr style=\"text-align: right;\">\n      <th></th>\n      <th>Date</th>\n      <th>Open</th>\n      <th>High</th>\n      <th>Low</th>\n      <th>Close</th>\n      <th>Adj Close</th>\n      <th>Volume</th>\n    </tr>\n  </thead>\n  <tbody>\n    <tr>\n      <th>0</th>\n      <td>2022-05-09</td>\n      <td>148.440002</td>\n      <td>153.770004</td>\n      <td>147.940002</td>\n      <td>152.380005</td>\n      <td>145.666168</td>\n      <td>4163100</td>\n    </tr>\n    <tr>\n      <th>1</th>\n      <td>2022-05-10</td>\n      <td>154.000000</td>\n      <td>154.039993</td>\n      <td>148.139999</td>\n      <td>149.119995</td>\n      <td>142.549789</td>\n      <td>3503200</td>\n    </tr>\n    <tr>\n      <th>2</th>\n      <td>2022-05-11</td>\n      <td>149.990005</td>\n      <td>150.130005</td>\n      <td>146.169998</td>\n      <td>146.410004</td>\n      <td>139.959213</td>\n      <td>2748000</td>\n    </tr>\n    <tr>\n      <th>3</th>\n      <td>2022-05-12</td>\n      <td>146.589996</td>\n      <td>149.619995</td>\n      <td>146.009995</td>\n      <td>149.589996</td>\n      <td>142.999100</td>\n      <td>2819000</td>\n    </tr>\n    <tr>\n      <th>4</th>\n      <td>2022-05-13</td>\n      <td>150.210007</td>\n      <td>150.350006</td>\n      <td>147.970001</td>\n      <td>149.300003</td>\n      <td>142.721863</td>\n      <td>2753300</td>\n    </tr>\n    <tr>\n      <th>...</th>\n      <td>...</td>\n      <td>...</td>\n      <td>...</td>\n      <td>...</td>\n      <td>...</td>\n      <td>...</td>\n      <td>...</td>\n    </tr>\n    <tr>\n      <th>245</th>\n      <td>2023-05-01</td>\n      <td>106.339996</td>\n      <td>106.830002</td>\n      <td>105.559998</td>\n      <td>105.849998</td>\n      <td>105.849998</td>\n      <td>2289300</td>\n    </tr>\n    <tr>\n      <th>246</th>\n      <td>2023-05-02</td>\n      <td>105.510002</td>\n      <td>105.699997</td>\n      <td>102.660004</td>\n      <td>102.980003</td>\n      <td>102.980003</td>\n      <td>3012000</td>\n    </tr>\n    <tr>\n      <th>247</th>\n      <td>2023-05-03</td>\n      <td>103.500000</td>\n      <td>104.599998</td>\n      <td>102.669998</td>\n      <td>102.830002</td>\n      <td>102.830002</td>\n      <td>2056100</td>\n    </tr>\n    <tr>\n      <th>248</th>\n      <td>2023-05-04</td>\n      <td>102.550003</td>\n      <td>102.980003</td>\n      <td>100.760002</td>\n      <td>101.839996</td>\n      <td>101.839996</td>\n      <td>2963200</td>\n    </tr>\n    <tr>\n      <th>249</th>\n      <td>2023-05-05</td>\n      <td>102.800003</td>\n      <td>103.480003</td>\n      <td>102.050003</td>\n      <td>103.349998</td>\n      <td>103.349998</td>\n      <td>1943100</td>\n    </tr>\n  </tbody>\n</table>\n<p>250 rows × 7 columns</p>\n</div>"
     },
     "execution_count": 6,
     "metadata": {},
     "output_type": "execute_result"
    }
   ],
   "source": [
    "mmm\n"
   ],
   "metadata": {
    "collapsed": false,
    "ExecuteTime": {
     "start_time": "2023-05-07T12:59:23.674690Z",
     "end_time": "2023-05-07T12:59:23.712388Z"
    }
   }
  },
  {
   "cell_type": "code",
   "execution_count": 7,
   "outputs": [
    {
     "data": {
      "text/plain": "           Date   Adj Close\n0    2022-05-09  145.666168\n1    2022-05-10  142.549789\n2    2022-05-11  139.959213\n3    2022-05-12  142.999100\n4    2022-05-13  142.721863\n..          ...         ...\n245  2023-05-01  105.849998\n246  2023-05-02  102.980003\n247  2023-05-03  102.830002\n248  2023-05-04  101.839996\n249  2023-05-05  103.349998\n\n[250 rows x 2 columns]",
      "text/html": "<div>\n<style scoped>\n    .dataframe tbody tr th:only-of-type {\n        vertical-align: middle;\n    }\n\n    .dataframe tbody tr th {\n        vertical-align: top;\n    }\n\n    .dataframe thead th {\n        text-align: right;\n    }\n</style>\n<table border=\"1\" class=\"dataframe\">\n  <thead>\n    <tr style=\"text-align: right;\">\n      <th></th>\n      <th>Date</th>\n      <th>Adj Close</th>\n    </tr>\n  </thead>\n  <tbody>\n    <tr>\n      <th>0</th>\n      <td>2022-05-09</td>\n      <td>145.666168</td>\n    </tr>\n    <tr>\n      <th>1</th>\n      <td>2022-05-10</td>\n      <td>142.549789</td>\n    </tr>\n    <tr>\n      <th>2</th>\n      <td>2022-05-11</td>\n      <td>139.959213</td>\n    </tr>\n    <tr>\n      <th>3</th>\n      <td>2022-05-12</td>\n      <td>142.999100</td>\n    </tr>\n    <tr>\n      <th>4</th>\n      <td>2022-05-13</td>\n      <td>142.721863</td>\n    </tr>\n    <tr>\n      <th>...</th>\n      <td>...</td>\n      <td>...</td>\n    </tr>\n    <tr>\n      <th>245</th>\n      <td>2023-05-01</td>\n      <td>105.849998</td>\n    </tr>\n    <tr>\n      <th>246</th>\n      <td>2023-05-02</td>\n      <td>102.980003</td>\n    </tr>\n    <tr>\n      <th>247</th>\n      <td>2023-05-03</td>\n      <td>102.830002</td>\n    </tr>\n    <tr>\n      <th>248</th>\n      <td>2023-05-04</td>\n      <td>101.839996</td>\n    </tr>\n    <tr>\n      <th>249</th>\n      <td>2023-05-05</td>\n      <td>103.349998</td>\n    </tr>\n  </tbody>\n</table>\n<p>250 rows × 2 columns</p>\n</div>"
     },
     "execution_count": 7,
     "metadata": {},
     "output_type": "execute_result"
    }
   ],
   "source": [
    "mmm.loc[:, ['Date', 'Adj Close']]"
   ],
   "metadata": {
    "collapsed": false,
    "ExecuteTime": {
     "start_time": "2023-05-07T12:59:23.701982Z",
     "end_time": "2023-05-07T12:59:23.762227Z"
    }
   }
  },
  {
   "cell_type": "code",
   "execution_count": 8,
   "outputs": [],
   "source": [
    "tsla = pd.read_csv(url_fmt.format(\"TSLA\"))\n"
   ],
   "metadata": {
    "collapsed": false,
    "ExecuteTime": {
     "start_time": "2023-05-07T12:59:23.716393Z",
     "end_time": "2023-05-07T12:59:23.854855Z"
    }
   }
  },
  {
   "cell_type": "code",
   "execution_count": 9,
   "outputs": [],
   "source": [
    "mmm: pd.DataFrame=mmm.loc[:, ['Date', 'Adj Close']]"
   ],
   "metadata": {
    "collapsed": false,
    "ExecuteTime": {
     "start_time": "2023-05-07T12:59:23.829755Z",
     "end_time": "2023-05-07T12:59:23.854855Z"
    }
   }
  },
  {
   "cell_type": "code",
   "execution_count": 10,
   "outputs": [],
   "source": [
    "mmm.rename(columns={'Adj Close': 'MMM'}, inplace=True)"
   ],
   "metadata": {
    "collapsed": false,
    "ExecuteTime": {
     "start_time": "2023-05-07T12:59:23.843837Z",
     "end_time": "2023-05-07T12:59:23.886183Z"
    }
   }
  },
  {
   "cell_type": "code",
   "execution_count": 11,
   "outputs": [
    {
     "data": {
      "text/plain": "           Date         MMM\n0    2022-05-09  145.666168\n1    2022-05-10  142.549789\n2    2022-05-11  139.959213\n3    2022-05-12  142.999100\n4    2022-05-13  142.721863\n..          ...         ...\n245  2023-05-01  105.849998\n246  2023-05-02  102.980003\n247  2023-05-03  102.830002\n248  2023-05-04  101.839996\n249  2023-05-05  103.349998\n\n[250 rows x 2 columns]",
      "text/html": "<div>\n<style scoped>\n    .dataframe tbody tr th:only-of-type {\n        vertical-align: middle;\n    }\n\n    .dataframe tbody tr th {\n        vertical-align: top;\n    }\n\n    .dataframe thead th {\n        text-align: right;\n    }\n</style>\n<table border=\"1\" class=\"dataframe\">\n  <thead>\n    <tr style=\"text-align: right;\">\n      <th></th>\n      <th>Date</th>\n      <th>MMM</th>\n    </tr>\n  </thead>\n  <tbody>\n    <tr>\n      <th>0</th>\n      <td>2022-05-09</td>\n      <td>145.666168</td>\n    </tr>\n    <tr>\n      <th>1</th>\n      <td>2022-05-10</td>\n      <td>142.549789</td>\n    </tr>\n    <tr>\n      <th>2</th>\n      <td>2022-05-11</td>\n      <td>139.959213</td>\n    </tr>\n    <tr>\n      <th>3</th>\n      <td>2022-05-12</td>\n      <td>142.999100</td>\n    </tr>\n    <tr>\n      <th>4</th>\n      <td>2022-05-13</td>\n      <td>142.721863</td>\n    </tr>\n    <tr>\n      <th>...</th>\n      <td>...</td>\n      <td>...</td>\n    </tr>\n    <tr>\n      <th>245</th>\n      <td>2023-05-01</td>\n      <td>105.849998</td>\n    </tr>\n    <tr>\n      <th>246</th>\n      <td>2023-05-02</td>\n      <td>102.980003</td>\n    </tr>\n    <tr>\n      <th>247</th>\n      <td>2023-05-03</td>\n      <td>102.830002</td>\n    </tr>\n    <tr>\n      <th>248</th>\n      <td>2023-05-04</td>\n      <td>101.839996</td>\n    </tr>\n    <tr>\n      <th>249</th>\n      <td>2023-05-05</td>\n      <td>103.349998</td>\n    </tr>\n  </tbody>\n</table>\n<p>250 rows × 2 columns</p>\n</div>"
     },
     "execution_count": 11,
     "metadata": {},
     "output_type": "execute_result"
    }
   ],
   "source": [
    "mmm"
   ],
   "metadata": {
    "collapsed": false,
    "ExecuteTime": {
     "start_time": "2023-05-07T12:59:23.859393Z",
     "end_time": "2023-05-07T12:59:23.893211Z"
    }
   }
  },
  {
   "cell_type": "code",
   "execution_count": 12,
   "outputs": [],
   "source": [
    "tsla: pd.DataFrame=tsla.loc[:, ['Date', 'Adj Close']]"
   ],
   "metadata": {
    "collapsed": false,
    "ExecuteTime": {
     "start_time": "2023-05-07T12:59:23.874077Z",
     "end_time": "2023-05-07T12:59:23.918417Z"
    }
   }
  },
  {
   "cell_type": "code",
   "execution_count": 13,
   "outputs": [],
   "source": [
    "tsla.rename(columns={'Adj Close': 'TSLA'}, inplace=True)"
   ],
   "metadata": {
    "collapsed": false,
    "ExecuteTime": {
     "start_time": "2023-05-07T12:59:23.896209Z",
     "end_time": "2023-05-07T12:59:23.918417Z"
    }
   }
  },
  {
   "cell_type": "code",
   "execution_count": 14,
   "outputs": [],
   "source": [
    "df=pd.merge(mmm, tsla, on='Date')"
   ],
   "metadata": {
    "collapsed": false,
    "ExecuteTime": {
     "start_time": "2023-05-07T12:59:23.911178Z",
     "end_time": "2023-05-07T12:59:23.949460Z"
    }
   }
  },
  {
   "cell_type": "code",
   "execution_count": 15,
   "outputs": [
    {
     "data": {
      "text/plain": "           Date         MMM        TSLA\n0    2022-05-09  145.666168  262.369995\n1    2022-05-10  142.549789  266.679993\n2    2022-05-11  139.959213  244.666672\n3    2022-05-12  142.999100  242.666672\n4    2022-05-13  142.721863  256.529999\n..          ...         ...         ...\n245  2023-05-01  105.849998  161.830002\n246  2023-05-02  102.980003  160.309998\n247  2023-05-03  102.830002  160.610001\n248  2023-05-04  101.839996  161.199997\n249  2023-05-05  103.349998  170.059998\n\n[250 rows x 3 columns]",
      "text/html": "<div>\n<style scoped>\n    .dataframe tbody tr th:only-of-type {\n        vertical-align: middle;\n    }\n\n    .dataframe tbody tr th {\n        vertical-align: top;\n    }\n\n    .dataframe thead th {\n        text-align: right;\n    }\n</style>\n<table border=\"1\" class=\"dataframe\">\n  <thead>\n    <tr style=\"text-align: right;\">\n      <th></th>\n      <th>Date</th>\n      <th>MMM</th>\n      <th>TSLA</th>\n    </tr>\n  </thead>\n  <tbody>\n    <tr>\n      <th>0</th>\n      <td>2022-05-09</td>\n      <td>145.666168</td>\n      <td>262.369995</td>\n    </tr>\n    <tr>\n      <th>1</th>\n      <td>2022-05-10</td>\n      <td>142.549789</td>\n      <td>266.679993</td>\n    </tr>\n    <tr>\n      <th>2</th>\n      <td>2022-05-11</td>\n      <td>139.959213</td>\n      <td>244.666672</td>\n    </tr>\n    <tr>\n      <th>3</th>\n      <td>2022-05-12</td>\n      <td>142.999100</td>\n      <td>242.666672</td>\n    </tr>\n    <tr>\n      <th>4</th>\n      <td>2022-05-13</td>\n      <td>142.721863</td>\n      <td>256.529999</td>\n    </tr>\n    <tr>\n      <th>...</th>\n      <td>...</td>\n      <td>...</td>\n      <td>...</td>\n    </tr>\n    <tr>\n      <th>245</th>\n      <td>2023-05-01</td>\n      <td>105.849998</td>\n      <td>161.830002</td>\n    </tr>\n    <tr>\n      <th>246</th>\n      <td>2023-05-02</td>\n      <td>102.980003</td>\n      <td>160.309998</td>\n    </tr>\n    <tr>\n      <th>247</th>\n      <td>2023-05-03</td>\n      <td>102.830002</td>\n      <td>160.610001</td>\n    </tr>\n    <tr>\n      <th>248</th>\n      <td>2023-05-04</td>\n      <td>101.839996</td>\n      <td>161.199997</td>\n    </tr>\n    <tr>\n      <th>249</th>\n      <td>2023-05-05</td>\n      <td>103.349998</td>\n      <td>170.059998</td>\n    </tr>\n  </tbody>\n</table>\n<p>250 rows × 3 columns</p>\n</div>"
     },
     "execution_count": 15,
     "metadata": {},
     "output_type": "execute_result"
    }
   ],
   "source": [
    "df"
   ],
   "metadata": {
    "collapsed": false,
    "ExecuteTime": {
     "start_time": "2023-05-07T12:59:23.928298Z",
     "end_time": "2023-05-07T12:59:23.993134Z"
    }
   }
  },
  {
   "cell_type": "code",
   "execution_count": 16,
   "outputs": [],
   "source": [
    "df=None"
   ],
   "metadata": {
    "collapsed": false,
    "ExecuteTime": {
     "start_time": "2023-05-07T12:59:23.936375Z",
     "end_time": "2023-05-07T12:59:24.026190Z"
    }
   }
  },
  {
   "cell_type": "code",
   "execution_count": 17,
   "outputs": [
    {
     "name": "stdout",
     "output_type": "stream",
     "text": [
      "ACE: download failed\n",
      "AET: download failed\n",
      "GAS: download failed\n",
      "ARG: download failed\n",
      "ALXN: download failed\n",
      "AGN: download failed\n",
      "ANR: download failed\n",
      "APC: download failed\n",
      "APOL: download failed\n",
      "AVP: download failed\n",
      "BHI: download failed\n",
      "BLL: download failed\n",
      "BCR: download failed\n",
      "BBT: download failed\n",
      "BMS: download failed\n",
      "BRK.B: download failed\n",
      "BMC: download failed\n",
      "BRCM: download failed\n",
      "BF.B: download failed\n",
      "CA: download failed\n",
      "CVC: download failed\n",
      "COG: download failed\n",
      "CAM: download failed\n",
      "CFN: download failed\n",
      "CBG: download failed\n",
      "CBS: download failed\n",
      "CELG: download failed\n",
      "CTL: download failed\n",
      "CERN: download failed\n",
      "CTXS: download failed\n",
      "COH: download failed\n",
      "CCE: download failed\n",
      "CSC: download failed\n",
      "CBE: download failed\n",
      "CVH: download failed\n",
      "COV: download failed\n",
      "DF: download failed\n",
      "DNR: download failed\n",
      "DTV: download failed\n",
      "DISCA: download failed\n",
      "RRD: download failed\n",
      "DPS: download failed\n",
      "ETFC: download failed\n",
      "EMC: download failed\n",
      "ESV: download failed\n",
      "ESRX: download failed\n",
      "FDO: download failed\n",
      "FII: download failed\n",
      "FLIR: download failed\n",
      "FRX: download failed\n",
      "FTR: download failed\n",
      "HAR: download failed\n",
      "HRS: download failed\n",
      "HCN: download failed\n",
      "HNZ: download failed\n",
      "HSP: download failed\n",
      "HCBK: download failed\n",
      "TEG: download failed\n",
      "JEC: download failed\n",
      "JDSU: download failed\n",
      "JOY: download failed\n",
      "KFT: download failed\n",
      "LLL: download failed\n",
      "LM: download failed\n",
      "LUK: download failed\n",
      "LXK: download failed\n",
      "LTD: download failed\n",
      "LLTC: download failed\n",
      "LO: download failed\n",
      "MHP: download failed\n",
      "MJN: download failed\n",
      "MWV: download failed\n",
      "PCS: download failed\n",
      "MOLX: download failed\n",
      "MON: download failed\n",
      "MYL: download failed\n",
      "NFX: download failed\n",
      "NBL: download failed\n",
      "NYX: download failed\n",
      "JCP: download failed\n",
      "PBCT: download failed\n",
      "POM: download failed\n",
      "PCL: download failed\n",
      "PCP: download failed\n",
      "PCLN: download failed\n",
      "QEP: download failed\n",
      "RTN: download failed\n",
      "RHT: download failed\n",
      "RAI: download failed\n",
      "COL: download failed\n",
      "RDC: download failed\n",
      "SWY: download failed\n",
      "SNDK: download failed\n",
      "SCG: download failed\n",
      "SNI: download failed\n",
      "SHLD: download failed\n",
      "SIAL: download failed\n",
      "STJ: download failed\n",
      "SPLS: download failed\n",
      "HOT: download failed\n",
      "STI: download failed\n",
      "SYMC: download failed\n",
      "TE: download failed\n",
      "TSO: download failed\n",
      "TIF: download failed\n",
      "TWX: download failed\n",
      "TWC: download failed\n",
      "TIE: download failed\n",
      "TMK: download failed\n",
      "TSS: download failed\n",
      "TYC: download failed\n",
      "UTX: download failed\n",
      "VAR: download failed\n",
      "VIAB: download failed\n",
      "WAG: download failed\n",
      "WPO: download failed\n",
      "WPI: download failed\n",
      "WLP: download failed\n",
      "WFM: download failed\n",
      "WIN: download failed\n",
      "WPX: download failed\n",
      "WYN: download failed\n",
      "XLNX: download failed\n",
      "XL: download failed\n",
      "YHOO: download failed\n",
      "ZMH: download failed\n"
     ]
    }
   ],
   "source": [
    "for symbol in sp500_symbols[0]:\n",
    "    try:\n",
    "        price_data = pd.read_csv(url_fmt.format(symbol))\n",
    "    except HTTPError:\n",
    "        print(\"{}: download failed\".format(symbol))\n",
    "        continue\n",
    "    price_data: pd.DataFrame = price_data.loc[:, ['Date', 'Adj Close']]\n",
    "    price_data.rename(columns={'Adj Close': symbol}, inplace=True)\n",
    "    if df is None:\n",
    "        df = price_data\n",
    "    else:\n",
    "        df = pd.merge(df, price_data, on='Date')"
   ],
   "metadata": {
    "collapsed": false,
    "ExecuteTime": {
     "start_time": "2023-05-07T12:59:23.951477Z",
     "end_time": "2023-05-07T13:00:29.535821Z"
    }
   }
  },
  {
   "cell_type": "code",
   "execution_count": 18,
   "outputs": [
    {
     "data": {
      "text/plain": "           Date         MMM         ABT        ANF         ACN        ADBE  \\\n0    2022-05-09  145.666168  105.406281  34.060001  282.929840  376.910004   \n1    2022-05-10  142.549789  104.778099  33.000000  283.028290  393.029999   \n2    2022-05-11  139.959213  103.884903  31.219999  276.483734  379.329987   \n3    2022-05-12  142.999100  105.975555  32.090000  276.749451  388.489990   \n4    2022-05-13  142.721878  107.850273  32.520000  282.221283  405.450012   \n..          ...         ...         ...        ...         ...         ...   \n245  2023-05-01  105.849998  111.110001  23.299999  279.420013  374.149994   \n246  2023-05-02  102.980003  111.500000  23.059999  276.739990  368.660004   \n247  2023-05-03  102.830002  111.760002  22.770000  275.179993  345.250000   \n248  2023-05-04  101.839996  110.860001  21.830000  266.500000  335.829987   \n249  2023-05-05  103.349998  111.260002  22.719999  265.649994  348.399994   \n\n           AMD        AES        AFL           A  ...         WY         WHR  \\\n0    86.360001  19.535986  56.118320  112.364029  ...  37.376453  184.754425   \n1    88.730003  19.438597  55.903828  115.870750  ...  36.899960  180.215363   \n2    87.919998  19.438597  55.455353  113.238235  ...  36.013672  168.690903   \n3    87.059998  18.941921  54.704632  115.364113  ...  36.423458  174.357590   \n4    95.120003  19.711285  54.870373  118.592682  ...  36.890427  174.835373   \n..         ...        ...        ...         ...  ...        ...         ...   \n245  89.690002  23.160000  70.360001  136.080002  ...  29.750000  139.789993   \n246  89.910004  22.600000  68.639999  134.520004  ...  29.059999  139.000000   \n247  81.620003  22.450001  67.360001  134.770004  ...  29.280001  141.149994   \n248  86.610001  22.480000  66.820000  133.880005  ...  29.010000  135.750000   \n249  89.839996  22.670000  67.589996  133.300003  ...  29.670000  137.020004   \n\n           WMB        WEC        WYNN        XEL        XRX         XYL  \\\n0    32.979385  98.866417   61.330002  71.579239  16.109816   83.907188   \n1    32.447765  97.625008   61.650002  71.423737  16.212605   81.586853   \n2    32.713570  98.682144   58.849998  71.890244  15.745383   79.868820   \n3    32.865463  98.484810   58.560001  71.482063  15.679973   81.744835   \n4    33.026852  99.725395   66.269997  72.395615  16.137850   82.850700   \n..         ...        ...         ...        ...        ...         ...   \n245  30.360001  95.940002  115.599998  70.169998  15.390000  104.500000   \n246  29.299999  95.250000  113.199997  69.099998  15.210000  104.519997   \n247  28.959999  94.279999  109.330002  68.500000  14.760000  104.150002   \n248  29.100000  95.349998  109.250000  69.110001  13.840000  106.330002   \n249  30.180000  96.010002  110.779999  69.570000  14.160000  108.970001   \n\n            YUM       ZION  \n0    108.027878  53.538116  \n1    108.655830  52.305454  \n2    106.850464  51.878399  \n3    108.430161  51.907513  \n4    110.706505  51.985161  \n..          ...        ...  \n245  142.229996  26.820000  \n246  142.899994  23.920000  \n247  137.309998  22.660000  \n248  136.320007  19.930000  \n249  137.490005  23.760000  \n\n[250 rows x 375 columns]",
      "text/html": "<div>\n<style scoped>\n    .dataframe tbody tr th:only-of-type {\n        vertical-align: middle;\n    }\n\n    .dataframe tbody tr th {\n        vertical-align: top;\n    }\n\n    .dataframe thead th {\n        text-align: right;\n    }\n</style>\n<table border=\"1\" class=\"dataframe\">\n  <thead>\n    <tr style=\"text-align: right;\">\n      <th></th>\n      <th>Date</th>\n      <th>MMM</th>\n      <th>ABT</th>\n      <th>ANF</th>\n      <th>ACN</th>\n      <th>ADBE</th>\n      <th>AMD</th>\n      <th>AES</th>\n      <th>AFL</th>\n      <th>A</th>\n      <th>...</th>\n      <th>WY</th>\n      <th>WHR</th>\n      <th>WMB</th>\n      <th>WEC</th>\n      <th>WYNN</th>\n      <th>XEL</th>\n      <th>XRX</th>\n      <th>XYL</th>\n      <th>YUM</th>\n      <th>ZION</th>\n    </tr>\n  </thead>\n  <tbody>\n    <tr>\n      <th>0</th>\n      <td>2022-05-09</td>\n      <td>145.666168</td>\n      <td>105.406281</td>\n      <td>34.060001</td>\n      <td>282.929840</td>\n      <td>376.910004</td>\n      <td>86.360001</td>\n      <td>19.535986</td>\n      <td>56.118320</td>\n      <td>112.364029</td>\n      <td>...</td>\n      <td>37.376453</td>\n      <td>184.754425</td>\n      <td>32.979385</td>\n      <td>98.866417</td>\n      <td>61.330002</td>\n      <td>71.579239</td>\n      <td>16.109816</td>\n      <td>83.907188</td>\n      <td>108.027878</td>\n      <td>53.538116</td>\n    </tr>\n    <tr>\n      <th>1</th>\n      <td>2022-05-10</td>\n      <td>142.549789</td>\n      <td>104.778099</td>\n      <td>33.000000</td>\n      <td>283.028290</td>\n      <td>393.029999</td>\n      <td>88.730003</td>\n      <td>19.438597</td>\n      <td>55.903828</td>\n      <td>115.870750</td>\n      <td>...</td>\n      <td>36.899960</td>\n      <td>180.215363</td>\n      <td>32.447765</td>\n      <td>97.625008</td>\n      <td>61.650002</td>\n      <td>71.423737</td>\n      <td>16.212605</td>\n      <td>81.586853</td>\n      <td>108.655830</td>\n      <td>52.305454</td>\n    </tr>\n    <tr>\n      <th>2</th>\n      <td>2022-05-11</td>\n      <td>139.959213</td>\n      <td>103.884903</td>\n      <td>31.219999</td>\n      <td>276.483734</td>\n      <td>379.329987</td>\n      <td>87.919998</td>\n      <td>19.438597</td>\n      <td>55.455353</td>\n      <td>113.238235</td>\n      <td>...</td>\n      <td>36.013672</td>\n      <td>168.690903</td>\n      <td>32.713570</td>\n      <td>98.682144</td>\n      <td>58.849998</td>\n      <td>71.890244</td>\n      <td>15.745383</td>\n      <td>79.868820</td>\n      <td>106.850464</td>\n      <td>51.878399</td>\n    </tr>\n    <tr>\n      <th>3</th>\n      <td>2022-05-12</td>\n      <td>142.999100</td>\n      <td>105.975555</td>\n      <td>32.090000</td>\n      <td>276.749451</td>\n      <td>388.489990</td>\n      <td>87.059998</td>\n      <td>18.941921</td>\n      <td>54.704632</td>\n      <td>115.364113</td>\n      <td>...</td>\n      <td>36.423458</td>\n      <td>174.357590</td>\n      <td>32.865463</td>\n      <td>98.484810</td>\n      <td>58.560001</td>\n      <td>71.482063</td>\n      <td>15.679973</td>\n      <td>81.744835</td>\n      <td>108.430161</td>\n      <td>51.907513</td>\n    </tr>\n    <tr>\n      <th>4</th>\n      <td>2022-05-13</td>\n      <td>142.721878</td>\n      <td>107.850273</td>\n      <td>32.520000</td>\n      <td>282.221283</td>\n      <td>405.450012</td>\n      <td>95.120003</td>\n      <td>19.711285</td>\n      <td>54.870373</td>\n      <td>118.592682</td>\n      <td>...</td>\n      <td>36.890427</td>\n      <td>174.835373</td>\n      <td>33.026852</td>\n      <td>99.725395</td>\n      <td>66.269997</td>\n      <td>72.395615</td>\n      <td>16.137850</td>\n      <td>82.850700</td>\n      <td>110.706505</td>\n      <td>51.985161</td>\n    </tr>\n    <tr>\n      <th>...</th>\n      <td>...</td>\n      <td>...</td>\n      <td>...</td>\n      <td>...</td>\n      <td>...</td>\n      <td>...</td>\n      <td>...</td>\n      <td>...</td>\n      <td>...</td>\n      <td>...</td>\n      <td>...</td>\n      <td>...</td>\n      <td>...</td>\n      <td>...</td>\n      <td>...</td>\n      <td>...</td>\n      <td>...</td>\n      <td>...</td>\n      <td>...</td>\n      <td>...</td>\n      <td>...</td>\n    </tr>\n    <tr>\n      <th>245</th>\n      <td>2023-05-01</td>\n      <td>105.849998</td>\n      <td>111.110001</td>\n      <td>23.299999</td>\n      <td>279.420013</td>\n      <td>374.149994</td>\n      <td>89.690002</td>\n      <td>23.160000</td>\n      <td>70.360001</td>\n      <td>136.080002</td>\n      <td>...</td>\n      <td>29.750000</td>\n      <td>139.789993</td>\n      <td>30.360001</td>\n      <td>95.940002</td>\n      <td>115.599998</td>\n      <td>70.169998</td>\n      <td>15.390000</td>\n      <td>104.500000</td>\n      <td>142.229996</td>\n      <td>26.820000</td>\n    </tr>\n    <tr>\n      <th>246</th>\n      <td>2023-05-02</td>\n      <td>102.980003</td>\n      <td>111.500000</td>\n      <td>23.059999</td>\n      <td>276.739990</td>\n      <td>368.660004</td>\n      <td>89.910004</td>\n      <td>22.600000</td>\n      <td>68.639999</td>\n      <td>134.520004</td>\n      <td>...</td>\n      <td>29.059999</td>\n      <td>139.000000</td>\n      <td>29.299999</td>\n      <td>95.250000</td>\n      <td>113.199997</td>\n      <td>69.099998</td>\n      <td>15.210000</td>\n      <td>104.519997</td>\n      <td>142.899994</td>\n      <td>23.920000</td>\n    </tr>\n    <tr>\n      <th>247</th>\n      <td>2023-05-03</td>\n      <td>102.830002</td>\n      <td>111.760002</td>\n      <td>22.770000</td>\n      <td>275.179993</td>\n      <td>345.250000</td>\n      <td>81.620003</td>\n      <td>22.450001</td>\n      <td>67.360001</td>\n      <td>134.770004</td>\n      <td>...</td>\n      <td>29.280001</td>\n      <td>141.149994</td>\n      <td>28.959999</td>\n      <td>94.279999</td>\n      <td>109.330002</td>\n      <td>68.500000</td>\n      <td>14.760000</td>\n      <td>104.150002</td>\n      <td>137.309998</td>\n      <td>22.660000</td>\n    </tr>\n    <tr>\n      <th>248</th>\n      <td>2023-05-04</td>\n      <td>101.839996</td>\n      <td>110.860001</td>\n      <td>21.830000</td>\n      <td>266.500000</td>\n      <td>335.829987</td>\n      <td>86.610001</td>\n      <td>22.480000</td>\n      <td>66.820000</td>\n      <td>133.880005</td>\n      <td>...</td>\n      <td>29.010000</td>\n      <td>135.750000</td>\n      <td>29.100000</td>\n      <td>95.349998</td>\n      <td>109.250000</td>\n      <td>69.110001</td>\n      <td>13.840000</td>\n      <td>106.330002</td>\n      <td>136.320007</td>\n      <td>19.930000</td>\n    </tr>\n    <tr>\n      <th>249</th>\n      <td>2023-05-05</td>\n      <td>103.349998</td>\n      <td>111.260002</td>\n      <td>22.719999</td>\n      <td>265.649994</td>\n      <td>348.399994</td>\n      <td>89.839996</td>\n      <td>22.670000</td>\n      <td>67.589996</td>\n      <td>133.300003</td>\n      <td>...</td>\n      <td>29.670000</td>\n      <td>137.020004</td>\n      <td>30.180000</td>\n      <td>96.010002</td>\n      <td>110.779999</td>\n      <td>69.570000</td>\n      <td>14.160000</td>\n      <td>108.970001</td>\n      <td>137.490005</td>\n      <td>23.760000</td>\n    </tr>\n  </tbody>\n</table>\n<p>250 rows × 375 columns</p>\n</div>"
     },
     "execution_count": 18,
     "metadata": {},
     "output_type": "execute_result"
    }
   ],
   "source": [
    "df"
   ],
   "metadata": {
    "collapsed": false,
    "ExecuteTime": {
     "start_time": "2023-05-07T13:00:29.557971Z",
     "end_time": "2023-05-07T13:00:29.576214Z"
    }
   }
  },
  {
   "cell_type": "code",
   "execution_count": 19,
   "outputs": [],
   "source": [
    "df.to_excel(\"sp500.xlsx\")"
   ],
   "metadata": {
    "collapsed": false,
    "ExecuteTime": {
     "start_time": "2023-05-07T13:00:29.569546Z",
     "end_time": "2023-05-07T13:00:31.415669Z"
    }
   }
  }
 ],
 "metadata": {
  "kernelspec": {
   "display_name": "Python 3",
   "language": "python",
   "name": "python3"
  },
  "language_info": {
   "codemirror_mode": {
    "name": "ipython",
    "version": 2
   },
   "file_extension": ".py",
   "mimetype": "text/x-python",
   "name": "python",
   "nbconvert_exporter": "python",
   "pygments_lexer": "ipython2",
   "version": "2.7.6"
  }
 },
 "nbformat": 4,
 "nbformat_minor": 0
}
