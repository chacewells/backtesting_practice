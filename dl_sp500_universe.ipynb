{
 "cells": [
  {
   "cell_type": "code",
   "execution_count": 36,
   "outputs": [],
   "source": [
    "from urllib.error import HTTPError\n",
    "\n",
    "import pandas as pd"
   ],
   "metadata": {
    "collapsed": false,
    "ExecuteTime": {
     "start_time": "2023-05-07T23:16:34.470672Z",
     "end_time": "2023-05-07T23:16:34.481368Z"
    }
   }
  },
  {
   "cell_type": "code",
   "execution_count": 37,
   "metadata": {
    "collapsed": true,
    "ExecuteTime": {
     "start_time": "2023-05-07T23:16:34.484368Z",
     "end_time": "2023-05-07T23:16:34.517226Z"
    }
   },
   "outputs": [],
   "source": [
    "url_fmt = \"https://query1.finance.yahoo.com/v7/finance/download/{}?period1=1651881600&period2=1683504000&interval=1d&events=history&includeAdjustedClose=true\""
   ]
  },
  {
   "cell_type": "code",
   "execution_count": 38,
   "outputs": [],
   "source": [
    "sp500_symbols = pd.read_csv(\"https://datahub.io/core/s-and-p-500-companies/r/constituents.csv\")\n"
   ],
   "metadata": {
    "collapsed": false,
    "ExecuteTime": {
     "start_time": "2023-05-07T23:16:34.514227Z",
     "end_time": "2023-05-07T23:16:36.314786Z"
    }
   }
  },
  {
   "cell_type": "code",
   "execution_count": 39,
   "outputs": [
    {
     "data": {
      "text/plain": "    Symbol                 Name                  Sector\n0      MMM                   3M             Industrials\n1      AOS          A. O. Smith             Industrials\n2      ABT  Abbott Laboratories             Health Care\n3     ABBV               AbbVie             Health Care\n4     ABMD              Abiomed             Health Care\n..     ...                  ...                     ...\n500    YUM          Yum! Brands  Consumer Discretionary\n501   ZBRA   Zebra Technologies  Information Technology\n502    ZBH        Zimmer Biomet             Health Care\n503   ZION        Zions Bancorp              Financials\n504    ZTS               Zoetis             Health Care\n\n[505 rows x 3 columns]",
      "text/html": "<div>\n<style scoped>\n    .dataframe tbody tr th:only-of-type {\n        vertical-align: middle;\n    }\n\n    .dataframe tbody tr th {\n        vertical-align: top;\n    }\n\n    .dataframe thead th {\n        text-align: right;\n    }\n</style>\n<table border=\"1\" class=\"dataframe\">\n  <thead>\n    <tr style=\"text-align: right;\">\n      <th></th>\n      <th>Symbol</th>\n      <th>Name</th>\n      <th>Sector</th>\n    </tr>\n  </thead>\n  <tbody>\n    <tr>\n      <th>0</th>\n      <td>MMM</td>\n      <td>3M</td>\n      <td>Industrials</td>\n    </tr>\n    <tr>\n      <th>1</th>\n      <td>AOS</td>\n      <td>A. O. Smith</td>\n      <td>Industrials</td>\n    </tr>\n    <tr>\n      <th>2</th>\n      <td>ABT</td>\n      <td>Abbott Laboratories</td>\n      <td>Health Care</td>\n    </tr>\n    <tr>\n      <th>3</th>\n      <td>ABBV</td>\n      <td>AbbVie</td>\n      <td>Health Care</td>\n    </tr>\n    <tr>\n      <th>4</th>\n      <td>ABMD</td>\n      <td>Abiomed</td>\n      <td>Health Care</td>\n    </tr>\n    <tr>\n      <th>...</th>\n      <td>...</td>\n      <td>...</td>\n      <td>...</td>\n    </tr>\n    <tr>\n      <th>500</th>\n      <td>YUM</td>\n      <td>Yum! Brands</td>\n      <td>Consumer Discretionary</td>\n    </tr>\n    <tr>\n      <th>501</th>\n      <td>ZBRA</td>\n      <td>Zebra Technologies</td>\n      <td>Information Technology</td>\n    </tr>\n    <tr>\n      <th>502</th>\n      <td>ZBH</td>\n      <td>Zimmer Biomet</td>\n      <td>Health Care</td>\n    </tr>\n    <tr>\n      <th>503</th>\n      <td>ZION</td>\n      <td>Zions Bancorp</td>\n      <td>Financials</td>\n    </tr>\n    <tr>\n      <th>504</th>\n      <td>ZTS</td>\n      <td>Zoetis</td>\n      <td>Health Care</td>\n    </tr>\n  </tbody>\n</table>\n<p>505 rows × 3 columns</p>\n</div>"
     },
     "execution_count": 39,
     "metadata": {},
     "output_type": "execute_result"
    }
   ],
   "source": [
    "sp500_symbols"
   ],
   "metadata": {
    "collapsed": false,
    "ExecuteTime": {
     "start_time": "2023-05-07T23:16:36.320809Z",
     "end_time": "2023-05-07T23:16:36.330478Z"
    }
   }
  },
  {
   "cell_type": "code",
   "execution_count": 40,
   "outputs": [],
   "source": [
    "df=None"
   ],
   "metadata": {
    "collapsed": false,
    "ExecuteTime": {
     "start_time": "2023-05-07T23:16:36.332478Z",
     "end_time": "2023-05-07T23:16:36.354164Z"
    }
   }
  },
  {
   "cell_type": "code",
   "execution_count": 41,
   "outputs": [
    {
     "name": "stdout",
     "output_type": "stream",
     "text": [
      "skipping ABMD; not enough rows\n",
      "ANTM: download failed\n",
      "BLL: download failed\n",
      "BRK.B: download failed\n",
      "BF.B: download failed\n",
      "CERN: download failed\n",
      "CTXS: download failed\n",
      "DISCA: download failed\n",
      "DISCK: download failed\n",
      "DRE: download failed\n",
      "FB: download failed\n",
      "skipping FRC; not enough rows\n",
      "FBHS: download failed\n",
      "INFO: download failed\n",
      "KSU: download failed\n",
      "NLSN: download failed\n",
      "NLOK: download failed\n",
      "PBCT: download failed\n",
      "TWTR: download failed\n",
      "VIAC: download failed\n",
      "WLTW: download failed\n",
      "XLNX: download failed\n"
     ]
    }
   ],
   "source": [
    "for symbol in sp500_symbols[\"Symbol\"]:\n",
    "    try:\n",
    "        price_data = pd.read_csv(url_fmt.format(symbol))\n",
    "    except HTTPError:\n",
    "        print(\"{}: download failed\".format(symbol))\n",
    "        continue\n",
    "    rows, _ = price_data.shape\n",
    "    if rows < 250:\n",
    "        print(\"skipping {}; not enough rows\".format(symbol))\n",
    "        continue\n",
    "    price_data: pd.DataFrame = price_data.loc[:, ['Date', 'Adj Close']]\n",
    "    price_data.rename(columns={'Adj Close': symbol}, inplace=True)\n",
    "    if df is None:\n",
    "        df = price_data\n",
    "    else:\n",
    "        df = pd.merge(df, price_data, on='Date')"
   ],
   "metadata": {
    "collapsed": false,
    "ExecuteTime": {
     "start_time": "2023-05-07T23:16:36.349163Z",
     "end_time": "2023-05-07T23:17:42.844171Z"
    }
   }
  },
  {
   "cell_type": "code",
   "execution_count": 42,
   "outputs": [],
   "source": [
    "df.set_index(\"Date\", inplace=True)"
   ],
   "metadata": {
    "collapsed": false,
    "ExecuteTime": {
     "start_time": "2023-05-07T23:17:42.849159Z",
     "end_time": "2023-05-07T23:17:42.859933Z"
    }
   }
  },
  {
   "cell_type": "code",
   "execution_count": 43,
   "outputs": [
    {
     "data": {
      "text/plain": "                   MMM        AOS         ABT        ABBV         ACN  \\\nDate                                                                    \n2022-05-09  145.666168  58.613712  105.406273  145.323471  282.929810   \n2022-05-10  142.549789  57.800041  104.778091  146.411270  283.028290   \n2022-05-11  139.959213  56.241322  103.884895  146.286148  276.483795   \n2022-05-12  142.999115  57.898071  105.975563  148.529129  276.749481   \n2022-05-13  142.721878  58.829384  107.850281  147.768616  282.221252   \n...                ...        ...         ...         ...         ...   \n2023-05-01  105.849998  70.139999  111.110001  153.710007  279.420013   \n2023-05-02  102.980003  69.779999  111.500000  151.619995  276.739990   \n2023-05-03  102.830002  69.459999  111.760002  149.250000  275.179993   \n2023-05-04  101.839996  69.190002  110.860001  147.360001  266.500000   \n2023-05-05  103.349998  70.379997  111.260002  148.029999  265.649994   \n\n                 ATVI        ADM        ADBE         AAP        AMD  ...  \\\nDate                                                                 ...   \n2022-05-09  77.169998  82.775253  376.910004  194.586380  86.360001  ...   \n2022-05-10  76.919998  83.373795  393.029999  194.836044  88.730003  ...   \n2022-05-11  77.470001  82.775253  379.329987  193.078796  87.919998  ...   \n2022-05-12  77.379997  82.853745  388.489990  200.597580  87.059998  ...   \n2022-05-13  77.739998  83.785896  405.450012  202.815781  95.120003  ...   \n...               ...        ...         ...         ...        ...  ...   \n2023-05-01  77.430000  77.800003  374.149994  125.470001  89.690002  ...   \n2023-05-02  76.000000  75.519997  368.660004  124.120003  89.910004  ...   \n2023-05-03  75.230003  75.019997  345.250000  123.800003  81.620003  ...   \n2023-05-04  74.589996  74.220001  335.829987  120.239998  86.610001  ...   \n2023-05-05  76.000000  75.959999  348.399994  123.769997  89.839996  ...   \n\n                   WHR        WMB        WYNN        XEL         XYL  \\\nDate                                                                   \n2022-05-09  184.754410  32.979389   61.330002  71.579247   83.907188   \n2022-05-10  180.215363  32.447765   61.650002  71.423737   81.586853   \n2022-05-11  168.690903  32.713573   58.849998  71.890251   79.868813   \n2022-05-12  174.357590  32.865463   58.560001  71.482063   81.744835   \n2022-05-13  174.835373  33.026852   66.269997  72.395630   82.850693   \n...                ...        ...         ...        ...         ...   \n2023-05-01  139.789993  30.360001  115.599998  70.169998  104.500000   \n2023-05-02  139.000000  29.299999  113.199997  69.099998  104.519997   \n2023-05-03  141.149994  28.959999  109.330002  68.500000  104.150002   \n2023-05-04  135.750000  29.100000  109.250000  69.110001  106.330002   \n2023-05-05  137.020004  30.180000  110.779999  69.570000  108.970001   \n\n                   YUM        ZBRA         ZBH       ZION         ZTS  \nDate                                                                   \n2022-05-09  108.027878  328.540009  114.050148  53.538116  160.448730  \n2022-05-10  108.655823  325.839996  113.226997  52.305454  161.281647  \n2022-05-11  106.850464  314.500000  112.483192  51.878399  158.554779  \n2022-05-12  108.430168  316.720001  112.165848  51.907509  161.708038  \n2022-05-13  110.706497  336.859985  114.119568  51.985157  163.939117  \n...                ...         ...         ...        ...         ...  \n2023-05-01  142.229996  287.450012  138.830002  26.820000  179.559998  \n2023-05-02  142.899994  255.440002  143.009995  23.920000  176.899994  \n2023-05-03  137.309998  258.500000  139.619995  22.660000  177.729996  \n2023-05-04  136.320007  265.000000  136.630005  19.930000  178.470001  \n2023-05-05  137.490005  273.799988  137.910004  23.760000  186.229996  \n\n[250 rows x 483 columns]",
      "text/html": "<div>\n<style scoped>\n    .dataframe tbody tr th:only-of-type {\n        vertical-align: middle;\n    }\n\n    .dataframe tbody tr th {\n        vertical-align: top;\n    }\n\n    .dataframe thead th {\n        text-align: right;\n    }\n</style>\n<table border=\"1\" class=\"dataframe\">\n  <thead>\n    <tr style=\"text-align: right;\">\n      <th></th>\n      <th>MMM</th>\n      <th>AOS</th>\n      <th>ABT</th>\n      <th>ABBV</th>\n      <th>ACN</th>\n      <th>ATVI</th>\n      <th>ADM</th>\n      <th>ADBE</th>\n      <th>AAP</th>\n      <th>AMD</th>\n      <th>...</th>\n      <th>WHR</th>\n      <th>WMB</th>\n      <th>WYNN</th>\n      <th>XEL</th>\n      <th>XYL</th>\n      <th>YUM</th>\n      <th>ZBRA</th>\n      <th>ZBH</th>\n      <th>ZION</th>\n      <th>ZTS</th>\n    </tr>\n    <tr>\n      <th>Date</th>\n      <th></th>\n      <th></th>\n      <th></th>\n      <th></th>\n      <th></th>\n      <th></th>\n      <th></th>\n      <th></th>\n      <th></th>\n      <th></th>\n      <th></th>\n      <th></th>\n      <th></th>\n      <th></th>\n      <th></th>\n      <th></th>\n      <th></th>\n      <th></th>\n      <th></th>\n      <th></th>\n      <th></th>\n    </tr>\n  </thead>\n  <tbody>\n    <tr>\n      <th>2022-05-09</th>\n      <td>145.666168</td>\n      <td>58.613712</td>\n      <td>105.406273</td>\n      <td>145.323471</td>\n      <td>282.929810</td>\n      <td>77.169998</td>\n      <td>82.775253</td>\n      <td>376.910004</td>\n      <td>194.586380</td>\n      <td>86.360001</td>\n      <td>...</td>\n      <td>184.754410</td>\n      <td>32.979389</td>\n      <td>61.330002</td>\n      <td>71.579247</td>\n      <td>83.907188</td>\n      <td>108.027878</td>\n      <td>328.540009</td>\n      <td>114.050148</td>\n      <td>53.538116</td>\n      <td>160.448730</td>\n    </tr>\n    <tr>\n      <th>2022-05-10</th>\n      <td>142.549789</td>\n      <td>57.800041</td>\n      <td>104.778091</td>\n      <td>146.411270</td>\n      <td>283.028290</td>\n      <td>76.919998</td>\n      <td>83.373795</td>\n      <td>393.029999</td>\n      <td>194.836044</td>\n      <td>88.730003</td>\n      <td>...</td>\n      <td>180.215363</td>\n      <td>32.447765</td>\n      <td>61.650002</td>\n      <td>71.423737</td>\n      <td>81.586853</td>\n      <td>108.655823</td>\n      <td>325.839996</td>\n      <td>113.226997</td>\n      <td>52.305454</td>\n      <td>161.281647</td>\n    </tr>\n    <tr>\n      <th>2022-05-11</th>\n      <td>139.959213</td>\n      <td>56.241322</td>\n      <td>103.884895</td>\n      <td>146.286148</td>\n      <td>276.483795</td>\n      <td>77.470001</td>\n      <td>82.775253</td>\n      <td>379.329987</td>\n      <td>193.078796</td>\n      <td>87.919998</td>\n      <td>...</td>\n      <td>168.690903</td>\n      <td>32.713573</td>\n      <td>58.849998</td>\n      <td>71.890251</td>\n      <td>79.868813</td>\n      <td>106.850464</td>\n      <td>314.500000</td>\n      <td>112.483192</td>\n      <td>51.878399</td>\n      <td>158.554779</td>\n    </tr>\n    <tr>\n      <th>2022-05-12</th>\n      <td>142.999115</td>\n      <td>57.898071</td>\n      <td>105.975563</td>\n      <td>148.529129</td>\n      <td>276.749481</td>\n      <td>77.379997</td>\n      <td>82.853745</td>\n      <td>388.489990</td>\n      <td>200.597580</td>\n      <td>87.059998</td>\n      <td>...</td>\n      <td>174.357590</td>\n      <td>32.865463</td>\n      <td>58.560001</td>\n      <td>71.482063</td>\n      <td>81.744835</td>\n      <td>108.430168</td>\n      <td>316.720001</td>\n      <td>112.165848</td>\n      <td>51.907509</td>\n      <td>161.708038</td>\n    </tr>\n    <tr>\n      <th>2022-05-13</th>\n      <td>142.721878</td>\n      <td>58.829384</td>\n      <td>107.850281</td>\n      <td>147.768616</td>\n      <td>282.221252</td>\n      <td>77.739998</td>\n      <td>83.785896</td>\n      <td>405.450012</td>\n      <td>202.815781</td>\n      <td>95.120003</td>\n      <td>...</td>\n      <td>174.835373</td>\n      <td>33.026852</td>\n      <td>66.269997</td>\n      <td>72.395630</td>\n      <td>82.850693</td>\n      <td>110.706497</td>\n      <td>336.859985</td>\n      <td>114.119568</td>\n      <td>51.985157</td>\n      <td>163.939117</td>\n    </tr>\n    <tr>\n      <th>...</th>\n      <td>...</td>\n      <td>...</td>\n      <td>...</td>\n      <td>...</td>\n      <td>...</td>\n      <td>...</td>\n      <td>...</td>\n      <td>...</td>\n      <td>...</td>\n      <td>...</td>\n      <td>...</td>\n      <td>...</td>\n      <td>...</td>\n      <td>...</td>\n      <td>...</td>\n      <td>...</td>\n      <td>...</td>\n      <td>...</td>\n      <td>...</td>\n      <td>...</td>\n      <td>...</td>\n    </tr>\n    <tr>\n      <th>2023-05-01</th>\n      <td>105.849998</td>\n      <td>70.139999</td>\n      <td>111.110001</td>\n      <td>153.710007</td>\n      <td>279.420013</td>\n      <td>77.430000</td>\n      <td>77.800003</td>\n      <td>374.149994</td>\n      <td>125.470001</td>\n      <td>89.690002</td>\n      <td>...</td>\n      <td>139.789993</td>\n      <td>30.360001</td>\n      <td>115.599998</td>\n      <td>70.169998</td>\n      <td>104.500000</td>\n      <td>142.229996</td>\n      <td>287.450012</td>\n      <td>138.830002</td>\n      <td>26.820000</td>\n      <td>179.559998</td>\n    </tr>\n    <tr>\n      <th>2023-05-02</th>\n      <td>102.980003</td>\n      <td>69.779999</td>\n      <td>111.500000</td>\n      <td>151.619995</td>\n      <td>276.739990</td>\n      <td>76.000000</td>\n      <td>75.519997</td>\n      <td>368.660004</td>\n      <td>124.120003</td>\n      <td>89.910004</td>\n      <td>...</td>\n      <td>139.000000</td>\n      <td>29.299999</td>\n      <td>113.199997</td>\n      <td>69.099998</td>\n      <td>104.519997</td>\n      <td>142.899994</td>\n      <td>255.440002</td>\n      <td>143.009995</td>\n      <td>23.920000</td>\n      <td>176.899994</td>\n    </tr>\n    <tr>\n      <th>2023-05-03</th>\n      <td>102.830002</td>\n      <td>69.459999</td>\n      <td>111.760002</td>\n      <td>149.250000</td>\n      <td>275.179993</td>\n      <td>75.230003</td>\n      <td>75.019997</td>\n      <td>345.250000</td>\n      <td>123.800003</td>\n      <td>81.620003</td>\n      <td>...</td>\n      <td>141.149994</td>\n      <td>28.959999</td>\n      <td>109.330002</td>\n      <td>68.500000</td>\n      <td>104.150002</td>\n      <td>137.309998</td>\n      <td>258.500000</td>\n      <td>139.619995</td>\n      <td>22.660000</td>\n      <td>177.729996</td>\n    </tr>\n    <tr>\n      <th>2023-05-04</th>\n      <td>101.839996</td>\n      <td>69.190002</td>\n      <td>110.860001</td>\n      <td>147.360001</td>\n      <td>266.500000</td>\n      <td>74.589996</td>\n      <td>74.220001</td>\n      <td>335.829987</td>\n      <td>120.239998</td>\n      <td>86.610001</td>\n      <td>...</td>\n      <td>135.750000</td>\n      <td>29.100000</td>\n      <td>109.250000</td>\n      <td>69.110001</td>\n      <td>106.330002</td>\n      <td>136.320007</td>\n      <td>265.000000</td>\n      <td>136.630005</td>\n      <td>19.930000</td>\n      <td>178.470001</td>\n    </tr>\n    <tr>\n      <th>2023-05-05</th>\n      <td>103.349998</td>\n      <td>70.379997</td>\n      <td>111.260002</td>\n      <td>148.029999</td>\n      <td>265.649994</td>\n      <td>76.000000</td>\n      <td>75.959999</td>\n      <td>348.399994</td>\n      <td>123.769997</td>\n      <td>89.839996</td>\n      <td>...</td>\n      <td>137.020004</td>\n      <td>30.180000</td>\n      <td>110.779999</td>\n      <td>69.570000</td>\n      <td>108.970001</td>\n      <td>137.490005</td>\n      <td>273.799988</td>\n      <td>137.910004</td>\n      <td>23.760000</td>\n      <td>186.229996</td>\n    </tr>\n  </tbody>\n</table>\n<p>250 rows × 483 columns</p>\n</div>"
     },
     "execution_count": 43,
     "metadata": {},
     "output_type": "execute_result"
    }
   ],
   "source": [
    "df"
   ],
   "metadata": {
    "collapsed": false,
    "ExecuteTime": {
     "start_time": "2023-05-07T23:17:42.882199Z",
     "end_time": "2023-05-07T23:17:42.890551Z"
    }
   }
  },
  {
   "cell_type": "code",
   "execution_count": 44,
   "outputs": [],
   "source": [
    "df.to_excel(\"sp500.xlsx\")"
   ],
   "metadata": {
    "collapsed": false,
    "ExecuteTime": {
     "start_time": "2023-05-07T23:17:42.893554Z",
     "end_time": "2023-05-07T23:17:45.001702Z"
    }
   }
  }
 ],
 "metadata": {
  "kernelspec": {
   "display_name": "Python 3",
   "language": "python",
   "name": "python3"
  },
  "language_info": {
   "codemirror_mode": {
    "name": "ipython",
    "version": 2
   },
   "file_extension": ".py",
   "mimetype": "text/x-python",
   "name": "python",
   "nbconvert_exporter": "python",
   "pygments_lexer": "ipython2",
   "version": "2.7.6"
  }
 },
 "nbformat": 4,
 "nbformat_minor": 0
}
