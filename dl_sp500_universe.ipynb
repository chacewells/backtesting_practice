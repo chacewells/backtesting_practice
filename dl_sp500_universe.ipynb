{
 "cells": [
  {
   "cell_type": "code",
   "execution_count": 26,
   "outputs": [],
   "source": [
    "from urllib.error import HTTPError\n",
    "\n",
    "import pandas as pd"
   ],
   "metadata": {
    "collapsed": false,
    "ExecuteTime": {
     "start_time": "2023-05-07T22:31:56.299726Z",
     "end_time": "2023-05-07T22:31:56.335559Z"
    }
   }
  },
  {
   "cell_type": "code",
   "execution_count": 27,
   "metadata": {
    "collapsed": true,
    "ExecuteTime": {
     "start_time": "2023-05-07T22:31:56.319619Z",
     "end_time": "2023-05-07T22:31:56.335559Z"
    }
   },
   "outputs": [],
   "source": [
    "url_fmt = \"https://query1.finance.yahoo.com/v7/finance/download/{}?period1=1651881600&period2=1683504000&interval=1d&events=history&includeAdjustedClose=true\""
   ]
  },
  {
   "cell_type": "code",
   "execution_count": 28,
   "outputs": [],
   "source": [
    "sp500_symbols = pd.read_csv(\"https://datahub.io/core/s-and-p-500-companies/r/constituents.csv\")\n"
   ],
   "metadata": {
    "collapsed": false,
    "ExecuteTime": {
     "start_time": "2023-05-07T22:31:56.335055Z",
     "end_time": "2023-05-07T22:31:57.820369Z"
    }
   }
  },
  {
   "cell_type": "code",
   "execution_count": 29,
   "outputs": [
    {
     "data": {
      "text/plain": "    Symbol                 Name                  Sector\n0      MMM                   3M             Industrials\n1      AOS          A. O. Smith             Industrials\n2      ABT  Abbott Laboratories             Health Care\n3     ABBV               AbbVie             Health Care\n4     ABMD              Abiomed             Health Care\n..     ...                  ...                     ...\n500    YUM          Yum! Brands  Consumer Discretionary\n501   ZBRA   Zebra Technologies  Information Technology\n502    ZBH        Zimmer Biomet             Health Care\n503   ZION        Zions Bancorp              Financials\n504    ZTS               Zoetis             Health Care\n\n[505 rows x 3 columns]",
      "text/html": "<div>\n<style scoped>\n    .dataframe tbody tr th:only-of-type {\n        vertical-align: middle;\n    }\n\n    .dataframe tbody tr th {\n        vertical-align: top;\n    }\n\n    .dataframe thead th {\n        text-align: right;\n    }\n</style>\n<table border=\"1\" class=\"dataframe\">\n  <thead>\n    <tr style=\"text-align: right;\">\n      <th></th>\n      <th>Symbol</th>\n      <th>Name</th>\n      <th>Sector</th>\n    </tr>\n  </thead>\n  <tbody>\n    <tr>\n      <th>0</th>\n      <td>MMM</td>\n      <td>3M</td>\n      <td>Industrials</td>\n    </tr>\n    <tr>\n      <th>1</th>\n      <td>AOS</td>\n      <td>A. O. Smith</td>\n      <td>Industrials</td>\n    </tr>\n    <tr>\n      <th>2</th>\n      <td>ABT</td>\n      <td>Abbott Laboratories</td>\n      <td>Health Care</td>\n    </tr>\n    <tr>\n      <th>3</th>\n      <td>ABBV</td>\n      <td>AbbVie</td>\n      <td>Health Care</td>\n    </tr>\n    <tr>\n      <th>4</th>\n      <td>ABMD</td>\n      <td>Abiomed</td>\n      <td>Health Care</td>\n    </tr>\n    <tr>\n      <th>...</th>\n      <td>...</td>\n      <td>...</td>\n      <td>...</td>\n    </tr>\n    <tr>\n      <th>500</th>\n      <td>YUM</td>\n      <td>Yum! Brands</td>\n      <td>Consumer Discretionary</td>\n    </tr>\n    <tr>\n      <th>501</th>\n      <td>ZBRA</td>\n      <td>Zebra Technologies</td>\n      <td>Information Technology</td>\n    </tr>\n    <tr>\n      <th>502</th>\n      <td>ZBH</td>\n      <td>Zimmer Biomet</td>\n      <td>Health Care</td>\n    </tr>\n    <tr>\n      <th>503</th>\n      <td>ZION</td>\n      <td>Zions Bancorp</td>\n      <td>Financials</td>\n    </tr>\n    <tr>\n      <th>504</th>\n      <td>ZTS</td>\n      <td>Zoetis</td>\n      <td>Health Care</td>\n    </tr>\n  </tbody>\n</table>\n<p>505 rows × 3 columns</p>\n</div>"
     },
     "execution_count": 29,
     "metadata": {},
     "output_type": "execute_result"
    }
   ],
   "source": [
    "sp500_symbols"
   ],
   "metadata": {
    "collapsed": false,
    "ExecuteTime": {
     "start_time": "2023-05-07T22:31:57.827422Z",
     "end_time": "2023-05-07T22:31:57.836325Z"
    }
   }
  },
  {
   "cell_type": "code",
   "execution_count": 30,
   "outputs": [],
   "source": [
    "df=None"
   ],
   "metadata": {
    "collapsed": false,
    "ExecuteTime": {
     "start_time": "2023-05-07T22:31:57.840351Z",
     "end_time": "2023-05-07T22:31:57.863277Z"
    }
   }
  },
  {
   "cell_type": "code",
   "execution_count": 31,
   "outputs": [
    {
     "name": "stdout",
     "output_type": "stream",
     "text": [
      "skipping ABMD; not enough rows\n",
      "ANTM: download failed\n",
      "BLL: download failed\n",
      "BRK.B: download failed\n",
      "BF.B: download failed\n",
      "CERN: download failed\n",
      "CTXS: download failed\n",
      "DISCA: download failed\n",
      "DISCK: download failed\n",
      "DRE: download failed\n",
      "FB: download failed\n",
      "skipping FRC; not enough rows\n",
      "FBHS: download failed\n",
      "INFO: download failed\n",
      "KSU: download failed\n",
      "NLSN: download failed\n",
      "NLOK: download failed\n",
      "PBCT: download failed\n",
      "TWTR: download failed\n",
      "VIAC: download failed\n",
      "WLTW: download failed\n",
      "XLNX: download failed\n"
     ]
    }
   ],
   "source": [
    "for symbol in sp500_symbols[\"Symbol\"]:\n",
    "    try:\n",
    "        price_data = pd.read_csv(url_fmt.format(symbol))\n",
    "    except HTTPError:\n",
    "        print(\"{}: download failed\".format(symbol))\n",
    "        continue\n",
    "    rows, _ = price_data.shape\n",
    "    if rows < 250:\n",
    "        print(\"skipping {}; not enough rows\".format(symbol))\n",
    "        continue\n",
    "    price_data: pd.DataFrame = price_data.loc[:, ['Date', 'Adj Close']]\n",
    "    price_data.rename(columns={'Adj Close': symbol}, inplace=True)\n",
    "    if df is None:\n",
    "        df = price_data\n",
    "    else:\n",
    "        df = pd.merge(df, price_data, on='Date')"
   ],
   "metadata": {
    "collapsed": false,
    "ExecuteTime": {
     "start_time": "2023-05-07T22:31:57.857247Z",
     "end_time": "2023-05-07T22:33:04.881146Z"
    }
   }
  },
  {
   "cell_type": "code",
   "execution_count": 32,
   "outputs": [
    {
     "data": {
      "text/plain": "           Date         MMM        AOS         ABT        ABBV         ACN  \\\n0    2022-05-09  145.666168  58.613708  105.406273  145.323486  282.929871   \n1    2022-05-10  142.549789  57.800037  104.778099  146.411270  283.028229   \n2    2022-05-11  139.959213  56.241318  103.884903  146.286148  276.483734   \n3    2022-05-12  142.999100  57.898075  105.975555  148.529129  276.749451   \n4    2022-05-13  142.721878  58.829384  107.850281  147.768646  282.221283   \n..          ...         ...        ...         ...         ...         ...   \n245  2023-05-01  105.849998  70.139999  111.110001  153.710007  279.420013   \n246  2023-05-02  102.980003  69.779999  111.500000  151.619995  276.739990   \n247  2023-05-03  102.830002  69.459999  111.760002  149.250000  275.179993   \n248  2023-05-04  101.839996  69.190002  110.860001  147.360001  266.500000   \n249  2023-05-05  103.349998  70.379997  111.260002  148.029999  265.649994   \n\n          ATVI        ADM        ADBE         AAP  ...         WHR        WMB  \\\n0    77.169998  82.775253  376.910004  194.586380  ...  184.754425  32.979385   \n1    76.919998  83.373787  393.029999  194.836044  ...  180.215363  32.447765   \n2    77.470001  82.775253  379.329987  193.078796  ...  168.690903  32.713573   \n3    77.379997  82.853745  388.489990  200.597580  ...  174.357590  32.865463   \n4    77.739998  83.785904  405.450012  202.815781  ...  174.835388  33.026848   \n..         ...        ...         ...         ...  ...         ...        ...   \n245  77.430000  77.800003  374.149994  125.470001  ...  139.789993  30.360001   \n246  76.000000  75.519997  368.660004  124.120003  ...  139.000000  29.299999   \n247  75.230003  75.019997  345.250000  123.800003  ...  141.149994  28.959999   \n248  74.589996  74.220001  335.829987  120.239998  ...  135.750000  29.100000   \n249  76.000000  75.959999  348.399994  123.769997  ...  137.020004  30.180000   \n\n           WYNN        XEL         XYL         YUM        ZBRA         ZBH  \\\n0     61.330002  71.579247   83.907188  108.027878  328.540009  114.050140   \n1     61.650002  71.423737   81.586845  108.655823  325.839996  113.227005   \n2     58.849998  71.890251   79.868828  106.850456  314.500000  112.483200   \n3     58.560001  71.482056   81.744835  108.430161  316.720001  112.165840   \n4     66.269997  72.395622   82.850700  110.706497  336.859985  114.119576   \n..          ...        ...         ...         ...         ...         ...   \n245  115.599998  70.169998  104.500000  142.229996  287.450012  138.830002   \n246  113.199997  69.099998  104.519997  142.899994  255.440002  143.009995   \n247  109.330002  68.500000  104.150002  137.309998  258.500000  139.619995   \n248  109.250000  69.110001  106.330002  136.320007  265.000000  136.630005   \n249  110.779999  69.570000  108.970001  137.490005  273.799988  137.910004   \n\n          ZION         ZTS  \n0    53.538116  160.448715  \n1    52.305454  161.281647  \n2    51.878391  158.554794  \n3    51.907513  161.708038  \n4    51.985161  163.939117  \n..         ...         ...  \n245  26.820000  179.559998  \n246  23.920000  176.899994  \n247  22.660000  177.729996  \n248  19.930000  178.470001  \n249  23.760000  186.229996  \n\n[250 rows x 484 columns]",
      "text/html": "<div>\n<style scoped>\n    .dataframe tbody tr th:only-of-type {\n        vertical-align: middle;\n    }\n\n    .dataframe tbody tr th {\n        vertical-align: top;\n    }\n\n    .dataframe thead th {\n        text-align: right;\n    }\n</style>\n<table border=\"1\" class=\"dataframe\">\n  <thead>\n    <tr style=\"text-align: right;\">\n      <th></th>\n      <th>Date</th>\n      <th>MMM</th>\n      <th>AOS</th>\n      <th>ABT</th>\n      <th>ABBV</th>\n      <th>ACN</th>\n      <th>ATVI</th>\n      <th>ADM</th>\n      <th>ADBE</th>\n      <th>AAP</th>\n      <th>...</th>\n      <th>WHR</th>\n      <th>WMB</th>\n      <th>WYNN</th>\n      <th>XEL</th>\n      <th>XYL</th>\n      <th>YUM</th>\n      <th>ZBRA</th>\n      <th>ZBH</th>\n      <th>ZION</th>\n      <th>ZTS</th>\n    </tr>\n  </thead>\n  <tbody>\n    <tr>\n      <th>0</th>\n      <td>2022-05-09</td>\n      <td>145.666168</td>\n      <td>58.613708</td>\n      <td>105.406273</td>\n      <td>145.323486</td>\n      <td>282.929871</td>\n      <td>77.169998</td>\n      <td>82.775253</td>\n      <td>376.910004</td>\n      <td>194.586380</td>\n      <td>...</td>\n      <td>184.754425</td>\n      <td>32.979385</td>\n      <td>61.330002</td>\n      <td>71.579247</td>\n      <td>83.907188</td>\n      <td>108.027878</td>\n      <td>328.540009</td>\n      <td>114.050140</td>\n      <td>53.538116</td>\n      <td>160.448715</td>\n    </tr>\n    <tr>\n      <th>1</th>\n      <td>2022-05-10</td>\n      <td>142.549789</td>\n      <td>57.800037</td>\n      <td>104.778099</td>\n      <td>146.411270</td>\n      <td>283.028229</td>\n      <td>76.919998</td>\n      <td>83.373787</td>\n      <td>393.029999</td>\n      <td>194.836044</td>\n      <td>...</td>\n      <td>180.215363</td>\n      <td>32.447765</td>\n      <td>61.650002</td>\n      <td>71.423737</td>\n      <td>81.586845</td>\n      <td>108.655823</td>\n      <td>325.839996</td>\n      <td>113.227005</td>\n      <td>52.305454</td>\n      <td>161.281647</td>\n    </tr>\n    <tr>\n      <th>2</th>\n      <td>2022-05-11</td>\n      <td>139.959213</td>\n      <td>56.241318</td>\n      <td>103.884903</td>\n      <td>146.286148</td>\n      <td>276.483734</td>\n      <td>77.470001</td>\n      <td>82.775253</td>\n      <td>379.329987</td>\n      <td>193.078796</td>\n      <td>...</td>\n      <td>168.690903</td>\n      <td>32.713573</td>\n      <td>58.849998</td>\n      <td>71.890251</td>\n      <td>79.868828</td>\n      <td>106.850456</td>\n      <td>314.500000</td>\n      <td>112.483200</td>\n      <td>51.878391</td>\n      <td>158.554794</td>\n    </tr>\n    <tr>\n      <th>3</th>\n      <td>2022-05-12</td>\n      <td>142.999100</td>\n      <td>57.898075</td>\n      <td>105.975555</td>\n      <td>148.529129</td>\n      <td>276.749451</td>\n      <td>77.379997</td>\n      <td>82.853745</td>\n      <td>388.489990</td>\n      <td>200.597580</td>\n      <td>...</td>\n      <td>174.357590</td>\n      <td>32.865463</td>\n      <td>58.560001</td>\n      <td>71.482056</td>\n      <td>81.744835</td>\n      <td>108.430161</td>\n      <td>316.720001</td>\n      <td>112.165840</td>\n      <td>51.907513</td>\n      <td>161.708038</td>\n    </tr>\n    <tr>\n      <th>4</th>\n      <td>2022-05-13</td>\n      <td>142.721878</td>\n      <td>58.829384</td>\n      <td>107.850281</td>\n      <td>147.768646</td>\n      <td>282.221283</td>\n      <td>77.739998</td>\n      <td>83.785904</td>\n      <td>405.450012</td>\n      <td>202.815781</td>\n      <td>...</td>\n      <td>174.835388</td>\n      <td>33.026848</td>\n      <td>66.269997</td>\n      <td>72.395622</td>\n      <td>82.850700</td>\n      <td>110.706497</td>\n      <td>336.859985</td>\n      <td>114.119576</td>\n      <td>51.985161</td>\n      <td>163.939117</td>\n    </tr>\n    <tr>\n      <th>...</th>\n      <td>...</td>\n      <td>...</td>\n      <td>...</td>\n      <td>...</td>\n      <td>...</td>\n      <td>...</td>\n      <td>...</td>\n      <td>...</td>\n      <td>...</td>\n      <td>...</td>\n      <td>...</td>\n      <td>...</td>\n      <td>...</td>\n      <td>...</td>\n      <td>...</td>\n      <td>...</td>\n      <td>...</td>\n      <td>...</td>\n      <td>...</td>\n      <td>...</td>\n      <td>...</td>\n    </tr>\n    <tr>\n      <th>245</th>\n      <td>2023-05-01</td>\n      <td>105.849998</td>\n      <td>70.139999</td>\n      <td>111.110001</td>\n      <td>153.710007</td>\n      <td>279.420013</td>\n      <td>77.430000</td>\n      <td>77.800003</td>\n      <td>374.149994</td>\n      <td>125.470001</td>\n      <td>...</td>\n      <td>139.789993</td>\n      <td>30.360001</td>\n      <td>115.599998</td>\n      <td>70.169998</td>\n      <td>104.500000</td>\n      <td>142.229996</td>\n      <td>287.450012</td>\n      <td>138.830002</td>\n      <td>26.820000</td>\n      <td>179.559998</td>\n    </tr>\n    <tr>\n      <th>246</th>\n      <td>2023-05-02</td>\n      <td>102.980003</td>\n      <td>69.779999</td>\n      <td>111.500000</td>\n      <td>151.619995</td>\n      <td>276.739990</td>\n      <td>76.000000</td>\n      <td>75.519997</td>\n      <td>368.660004</td>\n      <td>124.120003</td>\n      <td>...</td>\n      <td>139.000000</td>\n      <td>29.299999</td>\n      <td>113.199997</td>\n      <td>69.099998</td>\n      <td>104.519997</td>\n      <td>142.899994</td>\n      <td>255.440002</td>\n      <td>143.009995</td>\n      <td>23.920000</td>\n      <td>176.899994</td>\n    </tr>\n    <tr>\n      <th>247</th>\n      <td>2023-05-03</td>\n      <td>102.830002</td>\n      <td>69.459999</td>\n      <td>111.760002</td>\n      <td>149.250000</td>\n      <td>275.179993</td>\n      <td>75.230003</td>\n      <td>75.019997</td>\n      <td>345.250000</td>\n      <td>123.800003</td>\n      <td>...</td>\n      <td>141.149994</td>\n      <td>28.959999</td>\n      <td>109.330002</td>\n      <td>68.500000</td>\n      <td>104.150002</td>\n      <td>137.309998</td>\n      <td>258.500000</td>\n      <td>139.619995</td>\n      <td>22.660000</td>\n      <td>177.729996</td>\n    </tr>\n    <tr>\n      <th>248</th>\n      <td>2023-05-04</td>\n      <td>101.839996</td>\n      <td>69.190002</td>\n      <td>110.860001</td>\n      <td>147.360001</td>\n      <td>266.500000</td>\n      <td>74.589996</td>\n      <td>74.220001</td>\n      <td>335.829987</td>\n      <td>120.239998</td>\n      <td>...</td>\n      <td>135.750000</td>\n      <td>29.100000</td>\n      <td>109.250000</td>\n      <td>69.110001</td>\n      <td>106.330002</td>\n      <td>136.320007</td>\n      <td>265.000000</td>\n      <td>136.630005</td>\n      <td>19.930000</td>\n      <td>178.470001</td>\n    </tr>\n    <tr>\n      <th>249</th>\n      <td>2023-05-05</td>\n      <td>103.349998</td>\n      <td>70.379997</td>\n      <td>111.260002</td>\n      <td>148.029999</td>\n      <td>265.649994</td>\n      <td>76.000000</td>\n      <td>75.959999</td>\n      <td>348.399994</td>\n      <td>123.769997</td>\n      <td>...</td>\n      <td>137.020004</td>\n      <td>30.180000</td>\n      <td>110.779999</td>\n      <td>69.570000</td>\n      <td>108.970001</td>\n      <td>137.490005</td>\n      <td>273.799988</td>\n      <td>137.910004</td>\n      <td>23.760000</td>\n      <td>186.229996</td>\n    </tr>\n  </tbody>\n</table>\n<p>250 rows × 484 columns</p>\n</div>"
     },
     "execution_count": 32,
     "metadata": {},
     "output_type": "execute_result"
    }
   ],
   "source": [
    "df"
   ],
   "metadata": {
    "collapsed": false,
    "ExecuteTime": {
     "start_time": "2023-05-07T22:33:04.882787Z",
     "end_time": "2023-05-07T22:33:04.919069Z"
    }
   }
  },
  {
   "cell_type": "code",
   "execution_count": 33,
   "outputs": [],
   "source": [
    "df.to_excel(\"sp500.xlsx\")"
   ],
   "metadata": {
    "collapsed": false,
    "ExecuteTime": {
     "start_time": "2023-05-07T22:33:04.915113Z",
     "end_time": "2023-05-07T22:33:07.041525Z"
    }
   }
  }
 ],
 "metadata": {
  "kernelspec": {
   "display_name": "Python 3",
   "language": "python",
   "name": "python3"
  },
  "language_info": {
   "codemirror_mode": {
    "name": "ipython",
    "version": 2
   },
   "file_extension": ".py",
   "mimetype": "text/x-python",
   "name": "python",
   "nbconvert_exporter": "python",
   "pygments_lexer": "ipython2",
   "version": "2.7.6"
  }
 },
 "nbformat": 4,
 "nbformat_minor": 0
}
