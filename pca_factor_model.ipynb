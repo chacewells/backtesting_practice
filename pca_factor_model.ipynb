{
 "cells": [
  {
   "cell_type": "markdown",
   "source": [
    "# Principal Component Analysis as an Example of Factor Model"
   ],
   "metadata": {
    "collapsed": false
   }
  },
  {
   "cell_type": "code",
   "execution_count": 5,
   "outputs": [],
   "source": [
    "import math\n",
    "import numpy as np\n",
    "import pandas as pd\n",
    "import statsmodels.api as sm\n",
    "from sklearn.linear_model import LinearRegression\n",
    "from sklearn.multioutput import MultiOutputRegressor\n",
    "from sklearn.decomposition import PCA"
   ],
   "metadata": {
    "collapsed": false,
    "ExecuteTime": {
     "start_time": "2023-05-04T20:32:00.559264Z",
     "end_time": "2023-05-04T20:32:00.563358Z"
    }
   }
  },
  {
   "cell_type": "code",
   "execution_count": 6,
   "outputs": [],
   "source": [
    "lookback = 252  # trading period for factor exposure\n",
    "numFactors = 5\n",
    "topN = 50  # for trading strategy, long stocks with topN expected 1-day returns"
   ],
   "metadata": {
    "collapsed": false,
    "ExecuteTime": {
     "start_time": "2023-05-04T20:32:44.887406Z",
     "end_time": "2023-05-04T20:32:44.898425Z"
    }
   }
  },
  {
   "cell_type": "code",
   "execution_count": 7,
   "outputs": [],
   "source": [
    "df = pd.read_table('./example_code/IJR_20080114.txt')"
   ],
   "metadata": {
    "collapsed": false,
    "ExecuteTime": {
     "start_time": "2023-05-04T20:33:05.429354Z",
     "end_time": "2023-05-04T20:33:05.588815Z"
    }
   }
  },
  {
   "cell_type": "code",
   "execution_count": 8,
   "outputs": [],
   "source": [
    "df['Date'] = df['Date'].astype('int')"
   ],
   "metadata": {
    "collapsed": false,
    "ExecuteTime": {
     "start_time": "2023-05-04T20:33:19.404270Z",
     "end_time": "2023-05-04T20:33:19.422220Z"
    }
   }
  },
  {
   "cell_type": "code",
   "execution_count": 9,
   "outputs": [],
   "source": [
    "df.set_index('Date', inplace=True)"
   ],
   "metadata": {
    "collapsed": false,
    "ExecuteTime": {
     "start_time": "2023-05-04T20:33:29.318849Z",
     "end_time": "2023-05-04T20:33:29.334174Z"
    }
   }
  },
  {
   "cell_type": "code",
   "execution_count": 10,
   "outputs": [],
   "source": [
    "df.sort_index(inplace=True)"
   ],
   "metadata": {
    "collapsed": false,
    "ExecuteTime": {
     "start_time": "2023-05-04T20:33:35.446474Z",
     "end_time": "2023-05-04T20:33:35.460172Z"
    }
   }
  },
  {
   "cell_type": "code",
   "execution_count": 11,
   "outputs": [],
   "source": [
    "df.fillna(method='ffill', inplace=True)"
   ],
   "metadata": {
    "collapsed": false,
    "ExecuteTime": {
     "start_time": "2023-05-04T20:33:48.596952Z",
     "end_time": "2023-05-04T20:33:48.611699Z"
    }
   }
  },
  {
   "cell_type": "markdown",
   "source": [
    "### note the rows of dailyret are the observations at different time periods"
   ],
   "metadata": {
    "collapsed": false
   }
  },
  {
   "cell_type": "code",
   "execution_count": 12,
   "outputs": [],
   "source": [
    "dailyret = df.pct_change()"
   ],
   "metadata": {
    "collapsed": false,
    "ExecuteTime": {
     "start_time": "2023-05-04T20:34:48.582442Z",
     "end_time": "2023-05-04T20:34:48.611823Z"
    }
   }
  },
  {
   "cell_type": "code",
   "execution_count": 13,
   "outputs": [],
   "source": [
    "positionsTable = np.zeros(df.shape)"
   ],
   "metadata": {
    "collapsed": false,
    "ExecuteTime": {
     "start_time": "2023-05-04T20:34:56.871774Z",
     "end_time": "2023-05-04T20:34:56.885303Z"
    }
   }
  },
  {
   "cell_type": "code",
   "execution_count": 14,
   "outputs": [],
   "source": [
    "end_index = df.shape[0]"
   ],
   "metadata": {
    "collapsed": false,
    "ExecuteTime": {
     "start_time": "2023-05-04T20:35:39.896608Z",
     "end_time": "2023-05-04T20:35:39.913330Z"
    }
   }
  },
  {
   "cell_type": "code",
   "execution_count": 16,
   "outputs": [],
   "source": [
    "for t in np.arange(lookback + 1, end_index):\n",
    "    R = dailyret.iloc[t - lookback + 1:t, ].T  # here the columns of R are the different observations.\n",
    "    hasData = np.where(R.notna().all(axis=1))[0]\n",
    "    R.dropna(inplace=True)  # avoid any stocks with missing returns\n",
    "    pca = PCA()\n",
    "    X = pca.fit_transform(R.T)[:, :numFactors]\n",
    "    X = sm.add_constant(X)\n",
    "    y1 = R.T\n",
    "    clf = MultiOutputRegressor(LinearRegression(fit_intercept=False), n_jobs=4).fit(X, y1)\n",
    "    Rexp = np.sum(clf.predict(X), axis=0) # Rexp is the expected return for next period assuming factor returns remain constant\n",
    "    R = dailyret.iloc[t - lookback + 1:t + 1, ].T  # here the columns of R are the different observations.\n",
    "\n",
    "    idxSort = Rexp.argsort()\n",
    "\n",
    "    positionsTable[t, hasData[idxSort[np.arange(0, topN)]]] = -1 # short topN stocks with lowest expected returns\n",
    "    # positionsTable[t, hasData[idxSort[np.arange(-topN,0)]]]=1\n",
    "    positionsTable[t, hasData[idxSort[np.arange(-topN, -1)]]] = 1 # buy topN stocks with highest expected returns\n"
   ],
   "metadata": {
    "collapsed": false,
    "ExecuteTime": {
     "start_time": "2023-05-04T20:41:19.143608Z",
     "end_time": "2023-05-04T20:46:09.628846Z"
    }
   }
  },
  {
   "cell_type": "code",
   "execution_count": 17,
   "outputs": [],
   "source": [
    "capital = np.nansum(np.array(abs(pd.DataFrame(positionsTable)).shift()), axis=1)"
   ],
   "metadata": {
    "collapsed": false,
    "ExecuteTime": {
     "start_time": "2023-05-04T20:46:09.644541Z",
     "end_time": "2023-05-04T20:46:09.661315Z"
    }
   }
  },
  {
   "cell_type": "code",
   "execution_count": 18,
   "outputs": [],
   "source": [
    "positionsTable[capital == 0,] = 0"
   ],
   "metadata": {
    "collapsed": false,
    "ExecuteTime": {
     "start_time": "2023-05-04T20:46:09.662316Z",
     "end_time": "2023-05-04T20:46:09.675426Z"
    }
   }
  },
  {
   "cell_type": "code",
   "execution_count": 19,
   "outputs": [],
   "source": [
    "capital[capital == 0] = 1"
   ],
   "metadata": {
    "collapsed": false,
    "ExecuteTime": {
     "start_time": "2023-05-04T20:46:09.677426Z",
     "end_time": "2023-05-04T20:46:09.693429Z"
    }
   }
  },
  {
   "cell_type": "code",
   "execution_count": 21,
   "outputs": [],
   "source": [
    "ret = np.nansum(np.array(pd.DataFrame(positionsTable).shift()) * np.array(dailyret), axis=1) / capital # compute daily returns of trading strategy"
   ],
   "metadata": {
    "collapsed": false,
    "ExecuteTime": {
     "start_time": "2023-05-04T20:47:35.071307Z",
     "end_time": "2023-05-04T20:47:35.089443Z"
    }
   }
  },
  {
   "cell_type": "code",
   "execution_count": 22,
   "outputs": [],
   "source": [
    "avgret = np.nanmean(ret) * 252"
   ],
   "metadata": {
    "collapsed": false,
    "ExecuteTime": {
     "start_time": "2023-05-04T20:47:46.985986Z",
     "end_time": "2023-05-04T20:47:47.003606Z"
    }
   }
  },
  {
   "cell_type": "code",
   "execution_count": 23,
   "outputs": [],
   "source": [
    "avgstdev = np.nanstd(ret) * math.sqrt(252)"
   ],
   "metadata": {
    "collapsed": false,
    "ExecuteTime": {
     "start_time": "2023-05-04T20:48:01.849295Z",
     "end_time": "2023-05-04T20:48:01.889187Z"
    }
   }
  },
  {
   "cell_type": "code",
   "execution_count": 24,
   "outputs": [],
   "source": [
    "Sharpe = avgret / avgstdev"
   ],
   "metadata": {
    "collapsed": false,
    "ExecuteTime": {
     "start_time": "2023-05-04T20:48:16.894123Z",
     "end_time": "2023-05-04T20:48:16.910322Z"
    }
   }
  },
  {
   "cell_type": "code",
   "execution_count": 28,
   "outputs": [
    {
     "data": {
      "text/plain": "(0.04052422056844461, 0.07002908500498846, 0.5786769963588401)"
     },
     "execution_count": 28,
     "metadata": {},
     "output_type": "execute_result"
    }
   ],
   "source": [
    "(avgret, avgstdev, Sharpe)"
   ],
   "metadata": {
    "collapsed": false,
    "ExecuteTime": {
     "start_time": "2023-05-04T20:48:46.581531Z",
     "end_time": "2023-05-04T20:48:46.598534Z"
    }
   }
  }
 ],
 "metadata": {
  "kernelspec": {
   "display_name": "Python 3",
   "language": "python",
   "name": "python3"
  },
  "language_info": {
   "codemirror_mode": {
    "name": "ipython",
    "version": 2
   },
   "file_extension": ".py",
   "mimetype": "text/x-python",
   "name": "python",
   "nbconvert_exporter": "python",
   "pygments_lexer": "ipython2",
   "version": "2.7.6"
  }
 },
 "nbformat": 4,
 "nbformat_minor": 0
}
