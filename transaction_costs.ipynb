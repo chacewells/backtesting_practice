{
 "cells": [
  {
   "cell_type": "markdown",
   "source": [
    "# Simple Mean-Reverting Model with and without Transaction Costs"
   ],
   "metadata": {
    "collapsed": false
   }
  },
  {
   "cell_type": "code",
   "execution_count": 1,
   "outputs": [],
   "source": [
    "import numpy as np\n",
    "import pandas as pd"
   ],
   "metadata": {
    "collapsed": false,
    "ExecuteTime": {
     "start_time": "2023-05-01T18:42:58.363800Z",
     "end_time": "2023-05-01T18:42:58.744644Z"
    }
   }
  },
  {
   "cell_type": "code",
   "execution_count": 2,
   "outputs": [],
   "source": [
    "startDate = 20060101\n",
    "endDate = 20061231"
   ],
   "metadata": {
    "collapsed": false,
    "ExecuteTime": {
     "start_time": "2023-05-01T18:42:58.747664Z",
     "end_time": "2023-05-01T18:42:58.760807Z"
    }
   }
  },
  {
   "cell_type": "markdown",
   "source": [
    "### Read S&P and index/sort by Date"
   ],
   "metadata": {
    "collapsed": false
   }
  },
  {
   "cell_type": "code",
   "execution_count": 3,
   "outputs": [],
   "source": [
    "df = pd.read_table('./example_code/SPX_20071123.txt')"
   ],
   "metadata": {
    "collapsed": false,
    "ExecuteTime": {
     "start_time": "2023-05-01T18:42:58.763806Z",
     "end_time": "2023-05-01T18:42:58.980034Z"
    }
   }
  },
  {
   "cell_type": "code",
   "execution_count": 4,
   "outputs": [],
   "source": [
    "df['Date'] = df['Date'].astype('int')"
   ],
   "metadata": {
    "collapsed": false,
    "ExecuteTime": {
     "start_time": "2023-05-01T18:42:58.983035Z",
     "end_time": "2023-05-01T18:42:58.997017Z"
    }
   }
  },
  {
   "cell_type": "code",
   "execution_count": 5,
   "outputs": [],
   "source": [
    "df.set_index('Date', inplace=True)"
   ],
   "metadata": {
    "collapsed": false,
    "ExecuteTime": {
     "start_time": "2023-05-01T18:42:59.000523Z",
     "end_time": "2023-05-01T18:42:59.023501Z"
    }
   }
  },
  {
   "cell_type": "code",
   "execution_count": 6,
   "outputs": [],
   "source": [
    "df.sort_index(inplace=True)"
   ],
   "metadata": {
    "collapsed": false,
    "ExecuteTime": {
     "start_time": "2023-05-01T18:42:59.013067Z",
     "end_time": "2023-05-01T18:42:59.033874Z"
    }
   }
  },
  {
   "cell_type": "code",
   "execution_count": 7,
   "outputs": [],
   "source": [
    "dailyret = df.pct_change()"
   ],
   "metadata": {
    "collapsed": false,
    "ExecuteTime": {
     "start_time": "2023-05-01T18:42:59.028870Z",
     "end_time": "2023-05-01T18:42:59.070588Z"
    }
   }
  },
  {
   "cell_type": "code",
   "execution_count": 8,
   "outputs": [],
   "source": [
    "marketDailyRet = dailyret.mean(axis=1)"
   ],
   "metadata": {
    "collapsed": false,
    "ExecuteTime": {
     "start_time": "2023-05-01T18:42:59.061566Z",
     "end_time": "2023-05-01T18:42:59.079562Z"
    }
   }
  },
  {
   "cell_type": "code",
   "execution_count": 9,
   "outputs": [],
   "source": [
    "weights = -(np.array(dailyret) - np.array(marketDailyRet).reshape(dailyret.shape[0], 1))"
   ],
   "metadata": {
    "collapsed": false,
    "ExecuteTime": {
     "start_time": "2023-05-01T18:42:59.075590Z",
     "end_time": "2023-05-01T18:42:59.089510Z"
    }
   }
  },
  {
   "cell_type": "code",
   "execution_count": 10,
   "outputs": [],
   "source": [
    "wtsum = np.nansum(abs(weights), axis=1)"
   ],
   "metadata": {
    "collapsed": false,
    "ExecuteTime": {
     "start_time": "2023-05-01T18:42:59.092511Z",
     "end_time": "2023-05-01T18:42:59.112520Z"
    }
   }
  },
  {
   "cell_type": "code",
   "execution_count": 11,
   "outputs": [],
   "source": [
    "weights[wtsum == 0] = 0"
   ],
   "metadata": {
    "collapsed": false,
    "ExecuteTime": {
     "start_time": "2023-05-01T18:42:59.107603Z",
     "end_time": "2023-05-01T18:42:59.130003Z"
    }
   }
  },
  {
   "cell_type": "code",
   "execution_count": 12,
   "outputs": [],
   "source": [
    "wtsum[wtsum == 0] = 1"
   ],
   "metadata": {
    "collapsed": false,
    "ExecuteTime": {
     "start_time": "2023-05-01T18:42:59.123540Z",
     "end_time": "2023-05-01T18:42:59.149101Z"
    }
   }
  },
  {
   "cell_type": "code",
   "execution_count": 13,
   "outputs": [],
   "source": [
    "weights = weights / wtsum.reshape((dailyret.shape[0], 1))"
   ],
   "metadata": {
    "collapsed": false,
    "ExecuteTime": {
     "start_time": "2023-05-01T18:42:59.138619Z",
     "end_time": "2023-05-01T18:42:59.161847Z"
    }
   }
  },
  {
   "cell_type": "code",
   "execution_count": 14,
   "outputs": [],
   "source": [
    "dailypnl = np.nansum(np.array(pd.DataFrame(weights).shift()) * np.array(dailyret), axis=1)"
   ],
   "metadata": {
    "collapsed": false,
    "ExecuteTime": {
     "start_time": "2023-05-01T18:42:59.156111Z",
     "end_time": "2023-05-01T18:42:59.201315Z"
    }
   }
  },
  {
   "cell_type": "code",
   "execution_count": 15,
   "outputs": [],
   "source": [
    "dailypnl = dailypnl[np.logical_and(df.index >= startDate, df.index <= endDate)]"
   ],
   "metadata": {
    "collapsed": false,
    "ExecuteTime": {
     "start_time": "2023-05-01T18:42:59.190131Z",
     "end_time": "2023-05-01T18:42:59.201315Z"
    }
   }
  },
  {
   "cell_type": "code",
   "execution_count": 16,
   "outputs": [],
   "source": [
    "sharpeRatio = np.sqrt(252) * np.mean(dailypnl) / np.std(dailypnl)"
   ],
   "metadata": {
    "collapsed": false,
    "ExecuteTime": {
     "start_time": "2023-05-01T18:42:59.203277Z",
     "end_time": "2023-05-01T18:42:59.217487Z"
    }
   }
  },
  {
   "cell_type": "code",
   "execution_count": 17,
   "outputs": [
    {
     "data": {
      "text/plain": "0.9577856810103857"
     },
     "execution_count": 17,
     "metadata": {},
     "output_type": "execute_result"
    }
   ],
   "source": [
    "sharpeRatio"
   ],
   "metadata": {
    "collapsed": false,
    "ExecuteTime": {
     "start_time": "2023-05-01T18:42:59.215947Z",
     "end_time": "2023-05-01T18:42:59.274508Z"
    }
   }
  },
  {
   "cell_type": "markdown",
   "source": [
    "# With transaction costs"
   ],
   "metadata": {
    "collapsed": false
   }
  },
  {
   "cell_type": "code",
   "execution_count": 18,
   "outputs": [],
   "source": [
    "onewaytcost = 0.0005"
   ],
   "metadata": {
    "collapsed": false,
    "ExecuteTime": {
     "start_time": "2023-05-01T18:42:59.231034Z",
     "end_time": "2023-05-01T18:42:59.292582Z"
    }
   }
  },
  {
   "cell_type": "code",
   "execution_count": 19,
   "outputs": [],
   "source": [
    "weights = weights[np.logical_and(df.index >= startDate, df.index <= endDate)]"
   ],
   "metadata": {
    "collapsed": false,
    "ExecuteTime": {
     "start_time": "2023-05-01T18:42:59.247684Z",
     "end_time": "2023-05-01T18:42:59.292582Z"
    }
   }
  },
  {
   "cell_type": "code",
   "execution_count": 20,
   "outputs": [],
   "source": [
    "dailypnlminustcost = dailypnl - (\n",
    "            np.nansum(abs(weights - np.array(pd.DataFrame(weights).shift())), axis=1) * onewaytcost)"
   ],
   "metadata": {
    "collapsed": false,
    "ExecuteTime": {
     "start_time": "2023-05-01T18:42:59.262730Z",
     "end_time": "2023-05-01T18:42:59.292582Z"
    }
   }
  },
  {
   "cell_type": "code",
   "execution_count": 21,
   "outputs": [],
   "source": [
    "sharpeRatioMinusTcost = np.sqrt(252) * np.mean(dailypnlminustcost) / np.std(dailypnlminustcost)"
   ],
   "metadata": {
    "collapsed": false,
    "ExecuteTime": {
     "start_time": "2023-05-01T18:42:59.281578Z",
     "end_time": "2023-05-01T18:42:59.292582Z"
    }
   }
  },
  {
   "cell_type": "code",
   "execution_count": 22,
   "outputs": [
    {
     "data": {
      "text/plain": "-2.161743371896227"
     },
     "execution_count": 22,
     "metadata": {},
     "output_type": "execute_result"
    }
   ],
   "source": [
    "sharpeRatioMinusTcost"
   ],
   "metadata": {
    "collapsed": false,
    "ExecuteTime": {
     "start_time": "2023-05-01T18:42:59.295582Z",
     "end_time": "2023-05-01T18:42:59.337850Z"
    }
   }
  }
 ],
 "metadata": {
  "kernelspec": {
   "display_name": "Python 3",
   "language": "python",
   "name": "python3"
  },
  "language_info": {
   "codemirror_mode": {
    "name": "ipython",
    "version": 2
   },
   "file_extension": ".py",
   "mimetype": "text/x-python",
   "name": "python",
   "nbconvert_exporter": "python",
   "pygments_lexer": "ipython2",
   "version": "2.7.6"
  }
 },
 "nbformat": 4,
 "nbformat_minor": 0
}
