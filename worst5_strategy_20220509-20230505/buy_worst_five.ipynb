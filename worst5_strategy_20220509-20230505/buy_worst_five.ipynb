{
 "cells": [
  {
   "cell_type": "code",
   "execution_count": 68,
   "metadata": {
    "collapsed": true,
    "ExecuteTime": {
     "start_time": "2023-05-15T05:42:09.346666Z",
     "end_time": "2023-05-15T05:42:09.400744Z"
    }
   },
   "outputs": [],
   "source": [
    "import pandas as pd"
   ]
  },
  {
   "cell_type": "code",
   "execution_count": 69,
   "outputs": [],
   "source": [
    "import numpy as np"
   ],
   "metadata": {
    "collapsed": false,
    "ExecuteTime": {
     "start_time": "2023-05-15T05:42:09.363676Z",
     "end_time": "2023-05-15T05:42:09.463316Z"
    }
   }
  },
  {
   "cell_type": "code",
   "execution_count": 70,
   "outputs": [],
   "source": [
    "df = pd.read_excel(\"sp500.xlsx\")"
   ],
   "metadata": {
    "collapsed": false,
    "ExecuteTime": {
     "start_time": "2023-05-15T05:42:09.378679Z",
     "end_time": "2023-05-15T05:42:10.672911Z"
    }
   }
  },
  {
   "cell_type": "code",
   "execution_count": 71,
   "outputs": [],
   "source": [
    "df['Date'] = df['Date'].astype('datetime64')"
   ],
   "metadata": {
    "collapsed": false,
    "ExecuteTime": {
     "start_time": "2023-05-15T05:42:10.676881Z",
     "end_time": "2023-05-15T05:42:10.688815Z"
    }
   }
  },
  {
   "cell_type": "code",
   "execution_count": 72,
   "outputs": [],
   "source": [
    "df.set_index(\"Date\", inplace=True)"
   ],
   "metadata": {
    "collapsed": false,
    "ExecuteTime": {
     "start_time": "2023-05-15T05:42:10.690800Z",
     "end_time": "2023-05-15T05:42:10.717402Z"
    }
   }
  },
  {
   "cell_type": "code",
   "execution_count": 73,
   "outputs": [],
   "source": [
    "df.sort_index(inplace=True)"
   ],
   "metadata": {
    "collapsed": false,
    "ExecuteTime": {
     "start_time": "2023-05-15T05:42:10.707409Z",
     "end_time": "2023-05-15T05:42:10.725557Z"
    }
   }
  },
  {
   "cell_type": "code",
   "execution_count": 74,
   "outputs": [],
   "source": [
    "df.fillna(method=\"ffill\", inplace=True)"
   ],
   "metadata": {
    "collapsed": false,
    "ExecuteTime": {
     "start_time": "2023-05-15T05:42:10.721372Z",
     "end_time": "2023-05-15T05:42:10.737553Z"
    }
   }
  },
  {
   "cell_type": "code",
   "execution_count": 75,
   "outputs": [],
   "source": [
    "dailyret = df.pct_change()"
   ],
   "metadata": {
    "collapsed": false,
    "ExecuteTime": {
     "start_time": "2023-05-15T05:42:10.739591Z",
     "end_time": "2023-05-15T05:42:10.757244Z"
    }
   }
  },
  {
   "cell_type": "markdown",
   "source": [
    "## Calculate daily returns of long worst 5 strategy\n",
    "1. buy the assets with the worst 5 returns at close (at open the next day)\n",
    "2. Sell at close the next day\n",
    "Assumes no slippage between close[t] and open[t+1]"
   ],
   "metadata": {
    "collapsed": false
   }
  },
  {
   "cell_type": "code",
   "execution_count": 76,
   "outputs": [],
   "source": [
    "trades = np.zeros(df.shape[0])"
   ],
   "metadata": {
    "collapsed": false,
    "ExecuteTime": {
     "start_time": "2023-05-15T05:42:10.752219Z",
     "end_time": "2023-05-15T05:42:10.765220Z"
    }
   }
  },
  {
   "cell_type": "code",
   "execution_count": 77,
   "outputs": [],
   "source": [
    "for t in np.arange(1, df.shape[0] - 2):\n",
    "    worst5 = dailyret.iloc[t].nsmallest(5).index\n",
    "    trades[t + 1] = df.iloc[t + 1][worst5].sum() - df.iloc[t][worst5].sum()"
   ],
   "metadata": {
    "collapsed": false,
    "ExecuteTime": {
     "start_time": "2023-05-15T05:42:10.806791Z",
     "end_time": "2023-05-15T05:42:11.097876Z"
    }
   }
  },
  {
   "cell_type": "code",
   "execution_count": 78,
   "outputs": [
    {
     "data": {
      "text/plain": "-0.15417849999999494"
     },
     "execution_count": 78,
     "metadata": {},
     "output_type": "execute_result"
    }
   ],
   "source": [
    "# average daily return\n",
    "trades[2:].mean()"
   ],
   "metadata": {
    "collapsed": false,
    "ExecuteTime": {
     "start_time": "2023-05-15T05:42:11.099845Z",
     "end_time": "2023-05-15T05:42:11.113487Z"
    }
   }
  },
  {
   "cell_type": "code",
   "execution_count": 79,
   "outputs": [],
   "source": [
    "# annualized Sharpe ratio, assuming 4% annual return on risk-free basis\n",
    "trades_dailyret = pd.Series(trades[1:]).pct_change()"
   ],
   "metadata": {
    "collapsed": false,
    "ExecuteTime": {
     "start_time": "2023-05-15T05:42:11.116489Z",
     "end_time": "2023-05-15T05:42:11.159564Z"
    }
   }
  },
  {
   "cell_type": "code",
   "execution_count": 80,
   "outputs": [],
   "source": [
    "trades_dailyret_net = trades_dailyret - 0.04 / 252"
   ],
   "metadata": {
    "collapsed": false,
    "ExecuteTime": {
     "start_time": "2023-05-15T05:42:11.132534Z",
     "end_time": "2023-05-15T05:42:11.171534Z"
    }
   }
  },
  {
   "cell_type": "code",
   "execution_count": 81,
   "outputs": [],
   "source": [
    "sharpe = np.sqrt(252) * np.mean(trades_dailyret_net) / np.std(trades_dailyret_net)"
   ],
   "metadata": {
    "collapsed": false,
    "ExecuteTime": {
     "start_time": "2023-05-15T05:42:11.148563Z",
     "end_time": "2023-05-15T05:42:11.171534Z"
    }
   }
  },
  {
   "cell_type": "code",
   "execution_count": 82,
   "outputs": [
    {
     "data": {
      "text/plain": "nan"
     },
     "execution_count": 82,
     "metadata": {},
     "output_type": "execute_result"
    }
   ],
   "source": [
    "sharpe"
   ],
   "metadata": {
    "collapsed": false,
    "ExecuteTime": {
     "start_time": "2023-05-15T05:42:11.164564Z",
     "end_time": "2023-05-15T05:42:11.182533Z"
    }
   }
  },
  {
   "cell_type": "code",
   "execution_count": 83,
   "outputs": [
    {
     "data": {
      "text/plain": "0            NaN\n1           -inf\n2     -35.779056\n3      -0.759083\n4      -0.732918\n         ...    \n244    -1.522895\n245     0.029243\n246    -0.839444\n247    -3.376224\n248    -1.000159\nLength: 249, dtype: float64"
     },
     "execution_count": 83,
     "metadata": {},
     "output_type": "execute_result"
    }
   ],
   "source": [
    "trades_dailyret_net"
   ],
   "metadata": {
    "collapsed": false,
    "ExecuteTime": {
     "start_time": "2023-05-15T05:42:11.179567Z",
     "end_time": "2023-05-15T05:42:11.222089Z"
    }
   }
  },
  {
   "cell_type": "code",
   "execution_count": 84,
   "outputs": [
    {
     "data": {
      "text/plain": "-inf"
     },
     "execution_count": 84,
     "metadata": {},
     "output_type": "execute_result"
    }
   ],
   "source": [
    "trades_dailyret_net.mean()"
   ],
   "metadata": {
    "collapsed": false,
    "ExecuteTime": {
     "start_time": "2023-05-15T05:42:11.196605Z",
     "end_time": "2023-05-15T05:42:11.234129Z"
    }
   }
  },
  {
   "cell_type": "code",
   "execution_count": 85,
   "outputs": [
    {
     "data": {
      "text/plain": "nan"
     },
     "execution_count": 85,
     "metadata": {},
     "output_type": "execute_result"
    }
   ],
   "source": [
    "trades_dailyret_net.mean() / trades_dailyret_net.std()"
   ],
   "metadata": {
    "collapsed": false,
    "ExecuteTime": {
     "start_time": "2023-05-15T05:42:11.211835Z",
     "end_time": "2023-05-15T05:42:11.234129Z"
    }
   }
  },
  {
   "cell_type": "code",
   "execution_count": 86,
   "outputs": [
    {
     "data": {
      "text/plain": "nan"
     },
     "execution_count": 86,
     "metadata": {},
     "output_type": "execute_result"
    }
   ],
   "source": [
    "np.sqrt(250) * (trades_dailyret_net.mean() / trades_dailyret_net.std())"
   ],
   "metadata": {
    "collapsed": false,
    "ExecuteTime": {
     "start_time": "2023-05-15T05:42:11.226127Z",
     "end_time": "2023-05-15T05:42:11.242097Z"
    }
   }
  },
  {
   "cell_type": "markdown",
   "source": [
    "## read SPX index returns over 250 days\n",
    "### Get excess returns from \"long worst 5\" strategy by evaluating it directly against actual returns from the S&P 500 index"
   ],
   "metadata": {
    "collapsed": false
   }
  },
  {
   "cell_type": "code",
   "execution_count": 87,
   "outputs": [],
   "source": [
    "spx = pd.read_csv(\"^SPX.csv\")"
   ],
   "metadata": {
    "collapsed": false,
    "ExecuteTime": {
     "start_time": "2023-05-15T05:42:11.242097Z",
     "end_time": "2023-05-15T05:42:11.285290Z"
    }
   }
  },
  {
   "cell_type": "code",
   "execution_count": 88,
   "outputs": [],
   "source": [
    "spx['Date'] = spx['Date'].astype('datetime64')"
   ],
   "metadata": {
    "collapsed": false,
    "ExecuteTime": {
     "start_time": "2023-05-15T05:42:11.259256Z",
     "end_time": "2023-05-15T05:42:11.285290Z"
    }
   }
  },
  {
   "cell_type": "code",
   "execution_count": 89,
   "outputs": [],
   "source": [
    "spx.set_index('Date', inplace=True)"
   ],
   "metadata": {
    "collapsed": false,
    "ExecuteTime": {
     "start_time": "2023-05-15T05:42:11.275256Z",
     "end_time": "2023-05-15T05:42:11.297296Z"
    }
   }
  },
  {
   "cell_type": "code",
   "execution_count": 90,
   "outputs": [],
   "source": [
    "spx.sort_index(inplace=True)"
   ],
   "metadata": {
    "collapsed": false,
    "ExecuteTime": {
     "start_time": "2023-05-15T05:42:11.290255Z",
     "end_time": "2023-05-15T05:42:11.316977Z"
    }
   }
  },
  {
   "cell_type": "code",
   "execution_count": 91,
   "outputs": [],
   "source": [
    "riskfree_ret = spx['Adj Close'].pct_change().mean()"
   ],
   "metadata": {
    "collapsed": false,
    "ExecuteTime": {
     "start_time": "2023-05-15T05:42:11.306800Z",
     "end_time": "2023-05-15T05:42:11.348643Z"
    }
   }
  },
  {
   "cell_type": "code",
   "execution_count": 92,
   "outputs": [],
   "source": [
    "excessret = trades_dailyret - riskfree_ret"
   ],
   "metadata": {
    "collapsed": false,
    "ExecuteTime": {
     "start_time": "2023-05-15T05:42:11.322249Z",
     "end_time": "2023-05-15T05:42:11.356640Z"
    }
   }
  },
  {
   "cell_type": "code",
   "execution_count": 93,
   "outputs": [],
   "source": [
    "sharpe_ratio = np.sqrt(252) * excessret.iloc[2:].mean() / excessret.iloc[2:].std()"
   ],
   "metadata": {
    "collapsed": false,
    "ExecuteTime": {
     "start_time": "2023-05-15T05:42:11.336611Z",
     "end_time": "2023-05-15T05:42:11.356640Z"
    }
   }
  },
  {
   "cell_type": "code",
   "execution_count": 94,
   "outputs": [
    {
     "data": {
      "text/plain": "-1.7209194545655262"
     },
     "execution_count": 94,
     "metadata": {},
     "output_type": "execute_result"
    }
   ],
   "source": [
    "sharpe_ratio"
   ],
   "metadata": {
    "collapsed": false,
    "ExecuteTime": {
     "start_time": "2023-05-15T05:42:11.351610Z",
     "end_time": "2023-05-15T05:42:11.371332Z"
    }
   }
  },
  {
   "cell_type": "code",
   "execution_count": 94,
   "outputs": [],
   "source": [],
   "metadata": {
    "collapsed": false,
    "ExecuteTime": {
     "start_time": "2023-05-15T05:42:11.370332Z",
     "end_time": "2023-05-15T05:42:11.411430Z"
    }
   }
  }
 ],
 "metadata": {
  "kernelspec": {
   "display_name": "Python 3",
   "language": "python",
   "name": "python3"
  },
  "language_info": {
   "codemirror_mode": {
    "name": "ipython",
    "version": 2
   },
   "file_extension": ".py",
   "mimetype": "text/x-python",
   "name": "python",
   "nbconvert_exporter": "python",
   "pygments_lexer": "ipython2",
   "version": "2.7.6"
  }
 },
 "nbformat": 4,
 "nbformat_minor": 0
}
