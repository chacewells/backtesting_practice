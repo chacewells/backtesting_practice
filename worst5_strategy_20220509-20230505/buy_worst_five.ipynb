{
 "cells": [
  {
   "cell_type": "code",
   "execution_count": 29,
   "metadata": {
    "collapsed": true,
    "ExecuteTime": {
     "start_time": "2023-05-14T16:52:26.301290Z",
     "end_time": "2023-05-14T16:52:26.322187Z"
    }
   },
   "outputs": [],
   "source": [
    "import pandas as pd"
   ]
  },
  {
   "cell_type": "code",
   "execution_count": 30,
   "outputs": [],
   "source": [
    "import numpy as np"
   ],
   "metadata": {
    "collapsed": false,
    "ExecuteTime": {
     "start_time": "2023-05-14T16:52:26.470372Z",
     "end_time": "2023-05-14T16:52:26.498426Z"
    }
   }
  },
  {
   "cell_type": "code",
   "execution_count": 31,
   "outputs": [],
   "source": [
    "df = pd.read_excel(\"sp500.xlsx\")"
   ],
   "metadata": {
    "collapsed": false,
    "ExecuteTime": {
     "start_time": "2023-05-14T16:52:27.051237Z",
     "end_time": "2023-05-14T16:52:28.383656Z"
    }
   }
  },
  {
   "cell_type": "code",
   "execution_count": 32,
   "outputs": [],
   "source": [
    "df['Date'] = df['Date'].astype('datetime64')"
   ],
   "metadata": {
    "collapsed": false,
    "ExecuteTime": {
     "start_time": "2023-05-14T16:52:29.718463Z",
     "end_time": "2023-05-14T16:52:29.737943Z"
    }
   }
  },
  {
   "cell_type": "code",
   "execution_count": 33,
   "outputs": [],
   "source": [
    "df.set_index(\"Date\", inplace=True)"
   ],
   "metadata": {
    "collapsed": false,
    "ExecuteTime": {
     "start_time": "2023-05-14T16:52:29.884427Z",
     "end_time": "2023-05-14T16:52:29.911181Z"
    }
   }
  },
  {
   "cell_type": "code",
   "execution_count": 34,
   "outputs": [],
   "source": [
    "df.sort_index(inplace=True)"
   ],
   "metadata": {
    "collapsed": false,
    "ExecuteTime": {
     "start_time": "2023-05-14T16:52:30.063285Z",
     "end_time": "2023-05-14T16:52:30.082847Z"
    }
   }
  },
  {
   "cell_type": "code",
   "execution_count": null,
   "outputs": [],
   "source": [
    "df.fillna(method=\"ffill\", inplace=True)"
   ],
   "metadata": {
    "collapsed": false,
    "ExecuteTime": {
     "start_time": "2023-05-14T16:52:19.601057Z",
     "end_time": "2023-05-14T16:52:19.614363Z"
    },
    "pycharm": {
     "is_executing": true
    }
   }
  },
  {
   "cell_type": "code",
   "execution_count": 36,
   "outputs": [],
   "source": [
    "dailyret = df.pct_change()"
   ],
   "metadata": {
    "collapsed": false,
    "ExecuteTime": {
     "start_time": "2023-05-14T16:52:30.841489Z",
     "end_time": "2023-05-14T16:52:30.863488Z"
    }
   }
  },
  {
   "cell_type": "code",
   "execution_count": 37,
   "outputs": [
    {
     "data": {
      "text/plain": "                 MMM       AOS       ABT      ABBV       ACN      ATVI  \\\nDate                                                                     \n2023-05-01 -0.003483  0.027090  0.005793  0.017139 -0.003104 -0.003603   \n2023-05-02 -0.027114 -0.005133  0.003510 -0.013597 -0.009591 -0.018468   \n2023-05-03 -0.001457 -0.004586  0.002332 -0.015631 -0.005637 -0.010132   \n2023-05-04 -0.009628 -0.003887 -0.008053 -0.012663 -0.031543 -0.008507   \n2023-05-05  0.014827  0.017199  0.003608  0.004547 -0.003190  0.018903   \n\n                 ADM      ADBE       AAP       AMD  ...       WHR       WMB  \\\nDate                                                ...                       \n2023-05-01 -0.003586 -0.009032 -0.000478  0.003581  ...  0.001433  0.003305   \n2023-05-02 -0.029306 -0.014673 -0.010760  0.002453  ... -0.005651 -0.034914   \n2023-05-03 -0.006621 -0.063500 -0.002578 -0.092203  ...  0.015468 -0.011604   \n2023-05-04 -0.010664 -0.027285 -0.028756  0.061137  ... -0.038257  0.004834   \n2023-05-05  0.023444  0.037430  0.029358  0.037294  ...  0.009355  0.037113   \n\n                WYNN       XEL       XYL       YUM      ZBRA       ZBH  \\\nDate                                                                     \n2023-05-01  0.011551  0.003719  0.006356  0.011737 -0.002014  0.002817   \n2023-05-02 -0.020761 -0.015249  0.000191  0.004711 -0.111359  0.030109   \n2023-05-03 -0.034187 -0.008683 -0.003540 -0.039118  0.011979 -0.023705   \n2023-05-04 -0.000732  0.008905  0.020931 -0.007210  0.025145 -0.021415   \n2023-05-05  0.014005  0.006656  0.024828  0.008583  0.033208  0.009368   \n\n                ZION       ZTS  \nDate                            \n2023-05-01 -0.037330  0.021504  \n2023-05-02 -0.108128 -0.014814  \n2023-05-03 -0.052676  0.004692  \n2023-05-04 -0.120477  0.004164  \n2023-05-05  0.192173  0.043481  \n\n[5 rows x 483 columns]",
      "text/html": "<div>\n<style scoped>\n    .dataframe tbody tr th:only-of-type {\n        vertical-align: middle;\n    }\n\n    .dataframe tbody tr th {\n        vertical-align: top;\n    }\n\n    .dataframe thead th {\n        text-align: right;\n    }\n</style>\n<table border=\"1\" class=\"dataframe\">\n  <thead>\n    <tr style=\"text-align: right;\">\n      <th></th>\n      <th>MMM</th>\n      <th>AOS</th>\n      <th>ABT</th>\n      <th>ABBV</th>\n      <th>ACN</th>\n      <th>ATVI</th>\n      <th>ADM</th>\n      <th>ADBE</th>\n      <th>AAP</th>\n      <th>AMD</th>\n      <th>...</th>\n      <th>WHR</th>\n      <th>WMB</th>\n      <th>WYNN</th>\n      <th>XEL</th>\n      <th>XYL</th>\n      <th>YUM</th>\n      <th>ZBRA</th>\n      <th>ZBH</th>\n      <th>ZION</th>\n      <th>ZTS</th>\n    </tr>\n    <tr>\n      <th>Date</th>\n      <th></th>\n      <th></th>\n      <th></th>\n      <th></th>\n      <th></th>\n      <th></th>\n      <th></th>\n      <th></th>\n      <th></th>\n      <th></th>\n      <th></th>\n      <th></th>\n      <th></th>\n      <th></th>\n      <th></th>\n      <th></th>\n      <th></th>\n      <th></th>\n      <th></th>\n      <th></th>\n      <th></th>\n    </tr>\n  </thead>\n  <tbody>\n    <tr>\n      <th>2023-05-01</th>\n      <td>-0.003483</td>\n      <td>0.027090</td>\n      <td>0.005793</td>\n      <td>0.017139</td>\n      <td>-0.003104</td>\n      <td>-0.003603</td>\n      <td>-0.003586</td>\n      <td>-0.009032</td>\n      <td>-0.000478</td>\n      <td>0.003581</td>\n      <td>...</td>\n      <td>0.001433</td>\n      <td>0.003305</td>\n      <td>0.011551</td>\n      <td>0.003719</td>\n      <td>0.006356</td>\n      <td>0.011737</td>\n      <td>-0.002014</td>\n      <td>0.002817</td>\n      <td>-0.037330</td>\n      <td>0.021504</td>\n    </tr>\n    <tr>\n      <th>2023-05-02</th>\n      <td>-0.027114</td>\n      <td>-0.005133</td>\n      <td>0.003510</td>\n      <td>-0.013597</td>\n      <td>-0.009591</td>\n      <td>-0.018468</td>\n      <td>-0.029306</td>\n      <td>-0.014673</td>\n      <td>-0.010760</td>\n      <td>0.002453</td>\n      <td>...</td>\n      <td>-0.005651</td>\n      <td>-0.034914</td>\n      <td>-0.020761</td>\n      <td>-0.015249</td>\n      <td>0.000191</td>\n      <td>0.004711</td>\n      <td>-0.111359</td>\n      <td>0.030109</td>\n      <td>-0.108128</td>\n      <td>-0.014814</td>\n    </tr>\n    <tr>\n      <th>2023-05-03</th>\n      <td>-0.001457</td>\n      <td>-0.004586</td>\n      <td>0.002332</td>\n      <td>-0.015631</td>\n      <td>-0.005637</td>\n      <td>-0.010132</td>\n      <td>-0.006621</td>\n      <td>-0.063500</td>\n      <td>-0.002578</td>\n      <td>-0.092203</td>\n      <td>...</td>\n      <td>0.015468</td>\n      <td>-0.011604</td>\n      <td>-0.034187</td>\n      <td>-0.008683</td>\n      <td>-0.003540</td>\n      <td>-0.039118</td>\n      <td>0.011979</td>\n      <td>-0.023705</td>\n      <td>-0.052676</td>\n      <td>0.004692</td>\n    </tr>\n    <tr>\n      <th>2023-05-04</th>\n      <td>-0.009628</td>\n      <td>-0.003887</td>\n      <td>-0.008053</td>\n      <td>-0.012663</td>\n      <td>-0.031543</td>\n      <td>-0.008507</td>\n      <td>-0.010664</td>\n      <td>-0.027285</td>\n      <td>-0.028756</td>\n      <td>0.061137</td>\n      <td>...</td>\n      <td>-0.038257</td>\n      <td>0.004834</td>\n      <td>-0.000732</td>\n      <td>0.008905</td>\n      <td>0.020931</td>\n      <td>-0.007210</td>\n      <td>0.025145</td>\n      <td>-0.021415</td>\n      <td>-0.120477</td>\n      <td>0.004164</td>\n    </tr>\n    <tr>\n      <th>2023-05-05</th>\n      <td>0.014827</td>\n      <td>0.017199</td>\n      <td>0.003608</td>\n      <td>0.004547</td>\n      <td>-0.003190</td>\n      <td>0.018903</td>\n      <td>0.023444</td>\n      <td>0.037430</td>\n      <td>0.029358</td>\n      <td>0.037294</td>\n      <td>...</td>\n      <td>0.009355</td>\n      <td>0.037113</td>\n      <td>0.014005</td>\n      <td>0.006656</td>\n      <td>0.024828</td>\n      <td>0.008583</td>\n      <td>0.033208</td>\n      <td>0.009368</td>\n      <td>0.192173</td>\n      <td>0.043481</td>\n    </tr>\n  </tbody>\n</table>\n<p>5 rows × 483 columns</p>\n</div>"
     },
     "execution_count": 37,
     "metadata": {},
     "output_type": "execute_result"
    }
   ],
   "source": [
    "dailyret.iloc[-5:, :]"
   ],
   "metadata": {
    "collapsed": false,
    "ExecuteTime": {
     "start_time": "2023-05-14T16:52:30.864491Z",
     "end_time": "2023-05-14T16:52:30.897631Z"
    }
   }
  },
  {
   "cell_type": "markdown",
   "source": [
    "## Calculate daily returns of long worst 5 strategy\n",
    "1. buy the assets with the worst 5 returns at close (at open the next day)\n",
    "2. Sell at close the next day\n",
    "Assumes no slippage between close[t] and open[t+1]"
   ],
   "metadata": {
    "collapsed": false
   }
  },
  {
   "cell_type": "code",
   "execution_count": 38,
   "outputs": [],
   "source": [
    "trades=np.zeros(df.shape[0])"
   ],
   "metadata": {
    "collapsed": false,
    "ExecuteTime": {
     "start_time": "2023-05-14T16:52:32.750160Z",
     "end_time": "2023-05-14T16:52:32.761159Z"
    }
   }
  },
  {
   "cell_type": "code",
   "execution_count": 39,
   "outputs": [],
   "source": [
    "for t in np.arange(1, df.shape[0]-2):\n",
    "    worst5=dailyret.iloc[t].nsmallest(5).index\n",
    "    trades[t+1]=df.iloc[t+1][worst5].sum()-df.iloc[t][worst5].sum()"
   ],
   "metadata": {
    "collapsed": false,
    "ExecuteTime": {
     "start_time": "2023-05-14T16:52:32.971851Z",
     "end_time": "2023-05-14T16:52:33.307907Z"
    }
   }
  },
  {
   "cell_type": "code",
   "execution_count": 40,
   "outputs": [
    {
     "data": {
      "text/plain": "-0.15417849999999494"
     },
     "execution_count": 40,
     "metadata": {},
     "output_type": "execute_result"
    }
   ],
   "source": [
    "# average daily return\n",
    "trades[2:].mean()"
   ],
   "metadata": {
    "collapsed": false,
    "ExecuteTime": {
     "start_time": "2023-05-14T16:52:33.309898Z",
     "end_time": "2023-05-14T16:52:33.323362Z"
    }
   }
  },
  {
   "cell_type": "code",
   "execution_count": 41,
   "outputs": [],
   "source": [
    "# annualized Sharpe ratio, assuming 4% annual return on risk-free basis\n",
    "trades_dailyret = pd.Series(trades[1:]).pct_change()"
   ],
   "metadata": {
    "collapsed": false,
    "ExecuteTime": {
     "start_time": "2023-05-14T16:52:33.723999Z",
     "end_time": "2023-05-14T16:52:33.742575Z"
    }
   }
  },
  {
   "cell_type": "code",
   "execution_count": 42,
   "outputs": [],
   "source": [
    "trades_dailyret_net = trades_dailyret - 0.04/252"
   ],
   "metadata": {
    "collapsed": false,
    "ExecuteTime": {
     "start_time": "2023-05-14T16:52:34.061430Z",
     "end_time": "2023-05-14T16:52:34.086982Z"
    }
   }
  },
  {
   "cell_type": "code",
   "execution_count": 43,
   "outputs": [],
   "source": [
    "sharpe = np.sqrt(252)*np.mean(trades_dailyret_net)/np.std(trades_dailyret_net)"
   ],
   "metadata": {
    "collapsed": false,
    "ExecuteTime": {
     "start_time": "2023-05-14T16:52:34.267398Z",
     "end_time": "2023-05-14T16:52:34.286426Z"
    }
   }
  },
  {
   "cell_type": "code",
   "execution_count": 44,
   "outputs": [
    {
     "data": {
      "text/plain": "nan"
     },
     "execution_count": 44,
     "metadata": {},
     "output_type": "execute_result"
    }
   ],
   "source": [
    "sharpe"
   ],
   "metadata": {
    "collapsed": false,
    "ExecuteTime": {
     "start_time": "2023-05-14T16:52:34.489135Z",
     "end_time": "2023-05-14T16:52:34.501458Z"
    }
   }
  },
  {
   "cell_type": "code",
   "execution_count": 45,
   "outputs": [
    {
     "data": {
      "text/plain": "0            NaN\n1           -inf\n2     -35.779056\n3      -0.759083\n4      -0.732918\n         ...    \n244    -1.522895\n245     0.029243\n246    -0.839444\n247    -3.376224\n248    -1.000159\nLength: 249, dtype: float64"
     },
     "execution_count": 45,
     "metadata": {},
     "output_type": "execute_result"
    }
   ],
   "source": [
    "trades_dailyret_net"
   ],
   "metadata": {
    "collapsed": false,
    "ExecuteTime": {
     "start_time": "2023-05-14T16:52:34.850630Z",
     "end_time": "2023-05-14T16:52:34.873441Z"
    }
   }
  },
  {
   "cell_type": "code",
   "execution_count": 46,
   "outputs": [
    {
     "data": {
      "text/plain": "-inf"
     },
     "execution_count": 46,
     "metadata": {},
     "output_type": "execute_result"
    }
   ],
   "source": [
    "trades_dailyret_net.mean()"
   ],
   "metadata": {
    "collapsed": false,
    "ExecuteTime": {
     "start_time": "2023-05-14T16:52:35.187911Z",
     "end_time": "2023-05-14T16:52:35.203910Z"
    }
   }
  },
  {
   "cell_type": "code",
   "execution_count": 47,
   "outputs": [
    {
     "data": {
      "text/plain": "nan"
     },
     "execution_count": 47,
     "metadata": {},
     "output_type": "execute_result"
    }
   ],
   "source": [
    "trades_dailyret_net.mean()/trades_dailyret_net.std()"
   ],
   "metadata": {
    "collapsed": false,
    "ExecuteTime": {
     "start_time": "2023-05-14T16:52:35.756452Z",
     "end_time": "2023-05-14T16:52:35.775452Z"
    }
   }
  },
  {
   "cell_type": "code",
   "execution_count": 48,
   "outputs": [
    {
     "data": {
      "text/plain": "nan"
     },
     "execution_count": 48,
     "metadata": {},
     "output_type": "execute_result"
    }
   ],
   "source": [
    "np.sqrt(250)*(trades_dailyret_net.mean() / trades_dailyret_net.std())"
   ],
   "metadata": {
    "collapsed": false,
    "ExecuteTime": {
     "start_time": "2023-05-14T16:52:36.457845Z",
     "end_time": "2023-05-14T16:52:36.464879Z"
    }
   }
  },
  {
   "cell_type": "markdown",
   "source": [
    "## read SPX index returns over 250 days\n",
    "### Get excess returns from \"long worst 5\" strategy by evaluating it directly against actual returns from the S&P 500 index"
   ],
   "metadata": {
    "collapsed": false
   }
  },
  {
   "cell_type": "code",
   "execution_count": 57,
   "outputs": [],
   "source": [
    "spx=pd.read_csv(\"^SPX.csv\")"
   ],
   "metadata": {
    "collapsed": false,
    "ExecuteTime": {
     "start_time": "2023-05-14T16:52:45.661013Z",
     "end_time": "2023-05-14T16:52:45.674044Z"
    }
   }
  },
  {
   "cell_type": "code",
   "execution_count": 59,
   "outputs": [],
   "source": [
    "spx['Date']=spx['Date'].astype('datetime64')"
   ],
   "metadata": {
    "collapsed": false,
    "ExecuteTime": {
     "start_time": "2023-05-14T16:52:58.971968Z",
     "end_time": "2023-05-14T16:52:58.982967Z"
    }
   }
  },
  {
   "cell_type": "code",
   "execution_count": 60,
   "outputs": [],
   "source": [
    "spx.set_index('Date', inplace=True)"
   ],
   "metadata": {
    "collapsed": false,
    "ExecuteTime": {
     "start_time": "2023-05-14T16:52:59.131563Z",
     "end_time": "2023-05-14T16:52:59.140563Z"
    }
   }
  },
  {
   "cell_type": "code",
   "execution_count": 61,
   "outputs": [],
   "source": [
    "spx.sort_index(inplace=True)"
   ],
   "metadata": {
    "collapsed": false,
    "ExecuteTime": {
     "start_time": "2023-05-14T16:52:59.244962Z",
     "end_time": "2023-05-14T16:52:59.269170Z"
    }
   }
  },
  {
   "cell_type": "code",
   "execution_count": 62,
   "outputs": [],
   "source": [
    "riskfree_ret=spx['Adj Close'].pct_change().mean()"
   ],
   "metadata": {
    "collapsed": false,
    "ExecuteTime": {
     "start_time": "2023-05-14T16:52:59.665750Z",
     "end_time": "2023-05-14T16:52:59.673780Z"
    }
   }
  },
  {
   "cell_type": "code",
   "execution_count": 63,
   "outputs": [],
   "source": [
    "excessret = trades_dailyret-riskfree_ret"
   ],
   "metadata": {
    "collapsed": false,
    "ExecuteTime": {
     "start_time": "2023-05-14T16:53:00.170174Z",
     "end_time": "2023-05-14T16:53:00.177172Z"
    }
   }
  },
  {
   "cell_type": "code",
   "execution_count": 65,
   "outputs": [],
   "source": [
    "sharpe_ratio=np.sqrt(252)*excessret.iloc[2:].mean()/excessret.iloc[2:].std()"
   ],
   "metadata": {
    "collapsed": false,
    "ExecuteTime": {
     "start_time": "2023-05-14T16:53:45.855983Z",
     "end_time": "2023-05-14T16:53:45.867060Z"
    }
   }
  },
  {
   "cell_type": "code",
   "execution_count": 66,
   "outputs": [
    {
     "data": {
      "text/plain": "-1.7209194545655262"
     },
     "execution_count": 66,
     "metadata": {},
     "output_type": "execute_result"
    }
   ],
   "source": [
    "sharpe_ratio"
   ],
   "metadata": {
    "collapsed": false,
    "ExecuteTime": {
     "start_time": "2023-05-14T16:53:46.578769Z",
     "end_time": "2023-05-14T16:53:46.588803Z"
    }
   }
  },
  {
   "cell_type": "code",
   "execution_count": 28,
   "outputs": [],
   "source": [],
   "metadata": {
    "collapsed": false,
    "ExecuteTime": {
     "start_time": "2023-05-14T16:52:20.292151Z",
     "end_time": "2023-05-14T16:52:20.310149Z"
    }
   }
  }
 ],
 "metadata": {
  "kernelspec": {
   "display_name": "Python 3",
   "language": "python",
   "name": "python3"
  },
  "language_info": {
   "codemirror_mode": {
    "name": "ipython",
    "version": 2
   },
   "file_extension": ".py",
   "mimetype": "text/x-python",
   "name": "python",
   "nbconvert_exporter": "python",
   "pygments_lexer": "ipython2",
   "version": "2.7.6"
  }
 },
 "nbformat": 4,
 "nbformat_minor": 0
}
